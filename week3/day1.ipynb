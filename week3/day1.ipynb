{
 "cells": [
  {
   "cell_type": "markdown",
   "id": "61f56afc-bc15-46a4-8eb1-d940c332cf52",
   "metadata": {},
   "source": [
    "# Introducing Colab\n",
    "\n",
    "Learn about Google Colab and set up a Google account (if you don't already have one) [here](https://colab.research.google.com/)\n",
    "\n",
    "You should be able to use the free tier or minimal spend to complete all the projects in the class. I personally signed up for Colab Pro+ and I'm loving it - but it's not required.\n",
    "\n",
    "To see some of what Colab can do, please follow the link below!\n",
    "\n",
    "https://colab.research.google.com/drive/1DjcrYDZldAXKJ08x1uYIVCtItoLPk1Wr?usp=sharing"
   ]
  },
  {
   "cell_type": "code",
   "execution_count": null,
   "id": "e9289ba7-200c-43a9-b67a-c5ce826c9537",
   "metadata": {},
   "outputs": [],
   "source": []
  }
 ],
 "metadata": {
  "kernelspec": {
   "display_name": "Python (pyenv 3.12.3)",
   "language": "python",
   "name": "pyenv312"
  }
 },
 "nbformat": 4,
 "nbformat_minor": 5
}
