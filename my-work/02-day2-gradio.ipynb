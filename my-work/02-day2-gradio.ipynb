{
 "cells": [
  {
   "cell_type": "code",
   "execution_count": 1,
   "id": "d0910572",
   "metadata": {},
   "outputs": [],
   "source": [
    "import os\n",
    "import requests\n",
    "from bs4 import BeautifulSoup\n",
    "from typing import List\n",
    "from dotenv import load_dotenv\n",
    "from openai import OpenAI\n",
    "import google.generativeai\n",
    "import anthropic"
   ]
  },
  {
   "cell_type": "code",
   "execution_count": 2,
   "id": "24d24ee7",
   "metadata": {},
   "outputs": [],
   "source": [
    "import gradio as gr"
   ]
  },
  {
   "cell_type": "code",
   "execution_count": 3,
   "id": "b2aa8956",
   "metadata": {},
   "outputs": [
    {
     "name": "stdout",
     "output_type": "stream",
     "text": [
      "OpenAI API Key exists and begins sk-proj-\n",
      "Anthropic API Key exists and begins sk-ant-\n",
      "Google API Key exists and begins AIzaSyBo\n",
      "DeepSeek API Key exists and begins sk-18\n"
     ]
    }
   ],
   "source": [
    "# Load env variables, print key prefixes to help w debugging\n",
    "\n",
    "load_dotenv(override=True)\n",
    "openai_key = os.getenv('OPENAI_API_KEY')\n",
    "anthropic_key = os.getenv('ANTHROPIC_API_KEY')\n",
    "google_key = os.getenv('GOOGLE_API_KEY')\n",
    "deepseek_key = os.getenv('DEEPSEEK_API_KEY')\n",
    "\n",
    "if openai_key:\n",
    "    print(f\"OpenAI API Key exists and begins {openai_key[:8]}\")\n",
    "else:\n",
    "    print(\"OpenAI key not set.\")\n",
    "\n",
    "if anthropic_key:\n",
    "    print(f\"Anthropic API Key exists and begins {anthropic_key[:7]}\")\n",
    "else:\n",
    "    print(\"Anthropic key not set.\")\n",
    "\n",
    "if google_key:\n",
    "    print(f\"Google API Key exists and begins {google_key[:8]}\")\n",
    "else:\n",
    "    print(\"Google API Key not set.\")\n",
    "\n",
    "if deepseek_key:\n",
    "    print(f\"DeepSeek API Key exists and begins {deepseek_key[:5]}\")\n",
    "else:\n",
    "    print(\"DeepSeek key not set.\")"
   ]
  },
  {
   "cell_type": "code",
   "execution_count": 4,
   "id": "b0db65ba",
   "metadata": {},
   "outputs": [],
   "source": [
    "# Connect to OpenAI, Anthropic, Google\n",
    "\n",
    "openai = OpenAI()\n",
    "\n",
    "claude = anthropic.Anthropic()\n",
    "\n",
    "google.generativeai.configure()"
   ]
  },
  {
   "cell_type": "code",
   "execution_count": 5,
   "id": "623405ad",
   "metadata": {},
   "outputs": [],
   "source": [
    "# A generic system message \n",
    "system_message = \"You are a helpful assistant\""
   ]
  },
  {
   "cell_type": "code",
   "execution_count": null,
   "id": "d88299b2",
   "metadata": {},
   "outputs": [],
   "source": [
    "# Let's wrap a call to GPT-4o-mini in a simple function\n"
   ]
  }
 ],
 "metadata": {
  "kernelspec": {
   "display_name": "Python 3 (ipykernel)",
   "language": "python",
   "name": "python3"
  },
  "language_info": {
   "codemirror_mode": {
    "name": "ipython",
    "version": 3
   },
   "file_extension": ".py",
   "mimetype": "text/x-python",
   "name": "python",
   "nbconvert_exporter": "python",
   "pygments_lexer": "ipython3",
   "version": "3.11.11"
  }
 },
 "nbformat": 4,
 "nbformat_minor": 5
}
