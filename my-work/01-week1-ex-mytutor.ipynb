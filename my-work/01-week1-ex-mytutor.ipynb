{
 "cells": [
  {
   "cell_type": "markdown",
   "id": "bc5061c8",
   "metadata": {},
   "source": [
    "# My Tutor: End of Week 1 Exercise\n",
    "\n",
    "To demonstrate your familiarity with OpenAI API, and also Ollama, build a tool that takes a technical question,  \n",
    "and responds with an explanation. This is a tool that you will be able to use yourself during the course!"
   ]
  },
  {
   "cell_type": "markdown",
   "id": "8d99dee8",
   "metadata": {},
   "source": [
    "## Setup"
   ]
  },
  {
   "cell_type": "markdown",
   "id": "aa0dc2c9",
   "metadata": {},
   "source": [
    "### Imports"
   ]
  },
  {
   "cell_type": "code",
   "execution_count": 5,
   "id": "0d2ec713",
   "metadata": {},
   "outputs": [],
   "source": [
    "import os\n",
    "import requests\n",
    "import json\n",
    "from dotenv import load_dotenv\n",
    "from IPython.display import Markdown, display, update_display\n",
    "from openai import OpenAI\n",
    "import ollama"
   ]
  },
  {
   "cell_type": "markdown",
   "id": "11e358c3",
   "metadata": {},
   "source": [
    "### Constants"
   ]
  },
  {
   "cell_type": "code",
   "execution_count": null,
   "id": "877b2dfd",
   "metadata": {},
   "outputs": [],
   "source": [
    "MODEL_GPT = \"gpt-4o-mini\"\n",
    "\n",
    "OLLAMA_API = \"http://localhost:11434/api/chat\"\n",
    "LL_HEADERS = {\"Content-Type\": \"application/json\"}\n",
    "MODEL_LLAMA = \"llama3.2\""
   ]
  },
  {
   "cell_type": "markdown",
   "id": "266d3ab4",
   "metadata": {},
   "source": [
    "### Setup Environment"
   ]
  },
  {
   "cell_type": "code",
   "execution_count": 3,
   "id": "930b329c",
   "metadata": {},
   "outputs": [
    {
     "name": "stdout",
     "output_type": "stream",
     "text": [
      "API key found and looks good so far!\n"
     ]
    }
   ],
   "source": [
    "# OpenAI\n",
    "load_dotenv(override=True)\n",
    "api_key = os.environ['OPENAI_API_KEY']\n",
    "\n",
    "# Check key\n",
    "if not api_key:\n",
    "    print(\"No API Key found.\")\n",
    "elif not api_key.startswith(\"sk-proj-\"):\n",
    "    print(\"An API key was found, but it doesn't start with sk-proj-\")\n",
    "elif api_key.strip() != api_key:\n",
    "    print(\"An API key was found, but it was a space or a tab.\")\n",
    "else:\n",
    "    print(\"API key found and looks good so far!\")\n",
    "\n",
    "openai = OpenAI()"
   ]
  },
  {
   "cell_type": "markdown",
   "id": "1fbea834",
   "metadata": {},
   "source": [
    "## Question"
   ]
  },
  {
   "cell_type": "code",
   "execution_count": 4,
   "id": "c9ecb207",
   "metadata": {},
   "outputs": [],
   "source": [
    "question = \"\"\"\n",
    "Please explain what this code does and why:\n",
    "yield from {book.get(\"author\") for book in books if book.get(\"author\")}\n",
    "\"\"\""
   ]
  },
  {
   "cell_type": "markdown",
   "id": "3f5c5314",
   "metadata": {},
   "source": [
    "## Prompts"
   ]
  },
  {
   "cell_type": "code",
   "execution_count": null,
   "id": "9e374cad",
   "metadata": {},
   "outputs": [],
   "source": [
    "system_prompt = \"You are an assistant that takes technical questions and responds with an explanation, like a tutor. Respond in markdown.\""
   ]
  },
  {
   "cell_type": "code",
   "execution_count": 7,
   "id": "23ddc829",
   "metadata": {},
   "outputs": [
    {
     "data": {
      "text/plain": [
       "'You are an assistant that takes technical questions and responds with an explanation. Respond in markdown.'"
      ]
     },
     "execution_count": 7,
     "metadata": {},
     "output_type": "execute_result"
    }
   ],
   "source": [
    "system_prompt"
   ]
  },
  {
   "cell_type": "code",
   "execution_count": 12,
   "id": "fdaaf13e",
   "metadata": {},
   "outputs": [],
   "source": [
    "def user_prompt_question(question):\n",
    "    user_prompt = \"You are a tutor assistant. Please provide an answer and explanation in markdown. \\nThe question is as follows: \\n\\n\"\n",
    "    user_prompt += question\n",
    "    return user_prompt"
   ]
  },
  {
   "cell_type": "code",
   "execution_count": 13,
   "id": "49cd52df",
   "metadata": {},
   "outputs": [
    {
     "name": "stdout",
     "output_type": "stream",
     "text": [
      "You are a tutor assistant. Please provide an answer and explanation in markdown. \n",
      "The question is as follows: \n",
      "\n",
      "\n",
      "Please explain what this code does and why:\n",
      "yield from {book.get(\"author\") for book in books if book.get(\"author\")}\n",
      "\n"
     ]
    }
   ],
   "source": [
    "print(user_prompt_question(question))"
   ]
  },
  {
   "cell_type": "markdown",
   "id": "f1edbc7e",
   "metadata": {},
   "source": [
    "## gpt-4o-mini (w streaming)"
   ]
  },
  {
   "cell_type": "code",
   "execution_count": 16,
   "id": "b782cd92",
   "metadata": {},
   "outputs": [],
   "source": [
    "def stream_gpt_tutor(question):\n",
    "    stream = openai.chat.completions.create(\n",
    "        model=MODEL_GPT,\n",
    "        messages=[\n",
    "            {\n",
    "                \"role\": \"system\",\n",
    "                \"content\": system_prompt\n",
    "            },\n",
    "            {\n",
    "                \"role\": \"user\",\n",
    "                \"content\": user_prompt_question(question)\n",
    "            }\n",
    "        ],\n",
    "        stream=True\n",
    "    )\n",
    "\n",
    "    # # stream text only first\n",
    "    # for chunk in stream:\n",
    "    #     print(chunk.choices[0].delta.content or '', end='')\n",
    "\n",
    "    # Stream w MD\n",
    "    response = \"\"\n",
    "    display_handle = display(Markdown(\"\"), display_id=True)\n",
    "    for chunk in stream:\n",
    "        response += chunk.choices[0].delta.content or ''\n",
    "        response = response.replace(\"```\",\"\").replace(\"markdown\", \"\")\n",
    "        update_display(Markdown(response), display_id=display_handle.display_id)"
   ]
  },
  {
   "cell_type": "code",
   "execution_count": 17,
   "id": "f06d8eee",
   "metadata": {},
   "outputs": [
    {
     "data": {
      "text/markdown": [
       "Certainly! Let’s break down the code snippet:\n",
       "\n",
       "python\n",
       "yield from {book.get(\"author\") for book in books if book.get(\"author\")}\n",
       "\n",
       "\n",
       "### Explanation\n",
       "\n",
       "1. **Context of `yield from`:**\n",
       "   - The `yield from` statement is used within a generator function in Python. It allows a generator to delegate part of its operations to another generator. This is useful for combining multiple generators or yielding values from another iterable.\n",
       "\n",
       "2. **Set Comprehension:**\n",
       "   - The construct `{book.get(\"author\") for book in books if book.get(\"author\")}` is a set comprehension. \n",
       "   - This means that it is an expression that creates a set (a collection of unique items) by iterating over the iterable `books`.\n",
       "\n",
       "3. **Iteration Over `books`:**\n",
       "   - The code iterates over a collection called `books`. Each `book` in `books` is expected to be a dictionary (or an object that supports the `get` method).\n",
       "\n",
       "4. **Retrieving Authors:**\n",
       "   - `book.get(\"author\")` attempts to retrieve the value associated with the key `\"author\"` from the `book` dictionary.\n",
       "   - If the key `\"author\"` does not exist, `book.get(\"author\")` will return `None` (or the specified default value, if provided).\n",
       "\n",
       "5. **Filtering Non-None Values:**\n",
       "   - The condition `if book.get(\"author\")` ensures that only those authors that are not `None` (valid authors) are included in the resulting set.\n",
       "   - This effectively filters out any `book` entries that do not have a valid `\"author\"` key.\n",
       "\n",
       "6. **Final Output:**\n",
       "   - The result of the set comprehension is a set of unique authors from the `books` list.\n",
       "   - By using `yield from` with this set, the generator will yield each unique author one at a time when iterated over.\n",
       "\n",
       "### Why Use This Code?\n",
       "\n",
       "- **Uniqueness of Authors:** Using a set means that each author will be listed only once, avoiding duplicates.\n",
       "- **Efficiency:** The code combines the filtering and extraction of authors into a single line, making it both concise and readable.\n",
       "- **Generator Context:** Using `yield from` allows the function to yield each author in a way that can be easily consumed by any calling function, respecting the generator's nature of yielding values over returning a complete collection.\n",
       "\n",
       "### Summary\n",
       "\n",
       "In summary, this code snippet effectively creates a generator that yields unique authors from a list of book dictionaries, ensuring that only valid authors are included. The use of `yield from` makes it possible to seamlessly integrate these yielded values into a larger generator flow."
      ],
      "text/plain": [
       "<IPython.core.display.Markdown object>"
      ]
     },
     "metadata": {},
     "output_type": "display_data"
    }
   ],
   "source": [
    "# markdown\n",
    "stream_gpt_tutor(question)"
   ]
  },
  {
   "cell_type": "code",
   "execution_count": null,
   "id": "bee4d11e",
   "metadata": {},
   "outputs": [
    {
     "name": "stdout",
     "output_type": "stream",
     "text": [
      "Certainly! Let's break down the provided code snippet:\n",
      "\n",
      "```python\n",
      "yield from {book.get(\"author\") for book in books if book.get(\"author\")}\n",
      "```\n",
      "\n",
      "### Code Explanation\n",
      "\n",
      "1. **Comprehension**:\n",
      "   - The code uses a **set comprehension**: `{ ... for ... in ... if ... }`.\n",
      "   - Specifically, it iterates over a collection called `books`.\n",
      "\n",
      "2. **Iteration**:\n",
      "   - For each `book` in the `books` collection, the expression `book.get(\"author\")` retrieves the value associated with the key `\"author\"` from the dictionary `book`.\n",
      "   - `book.get(\"author\")` returns the author's name if the key exists and is associated with a value. If the key does not exist, it returns `None`.\n",
      "\n",
      "3. **Filtering**:\n",
      "   - The `if book.get(\"author\")` condition filters out books where the author's name is `None` or does not exist. So only books that have a valid author will be included in the results.\n",
      "\n",
      "4. **Set Creation**:\n",
      "   - The expression `{ ... }` gathers all unique authors (because a set inherently only keeps unique values).\n",
      "\n",
      "5. **Yielding Values**:\n",
      "   - The `yield from` statement is used in a generator context. It allows a generator to yield all values from an iterable. Here, it will yield each unique author from the set created by the comprehension.\n",
      "\n",
      "### Why Use This Code?\n",
      "\n",
      "- **Efficiency**: Using a set comprehension ensures that only unique authors are collected, eliminating duplicates automatically.\n",
      "- **Easy to Understand**: It succinctly captures the intent to gather authors without cluttering the code and uses Python's built-in functionalities.\n",
      "- **Generator Context**: The use of `yield from` indicates that this code is part of a generator function, allowing for lazy evaluations where values are produced on-the-fly rather than all at once, which can be memory efficient.\n",
      "\n",
      "### In Summary\n",
      "\n",
      "The code snippet extracts unique authors from a list of book dictionaries, filtering out any books that do not have an associated author. It then yields those unique authors one at a time, allowing for efficient processing within a generator function."
     ]
    }
   ],
   "source": [
    "# Text only\n",
    "stream_gpt_tutor(question)"
   ]
  },
  {
   "cell_type": "markdown",
   "id": "8ef157d2",
   "metadata": {},
   "source": [
    "## Llama 3.2"
   ]
  },
  {
   "cell_type": "code",
   "execution_count": 18,
   "id": "6303c900",
   "metadata": {},
   "outputs": [],
   "source": [
    "def llama_tutor(question):\n",
    "    response = ollama.chat(\n",
    "        model=MODEL_LLAMA,\n",
    "        messages=[\n",
    "            {\n",
    "                \"role\": \"system\",\n",
    "                \"content\": system_prompt\n",
    "            },\n",
    "            {\n",
    "                \"role\": \"user\",\n",
    "                \"content\": user_prompt_question(question)\n",
    "            }\n",
    "        ]\n",
    "    )\n",
    "    result = response['message']['content']\n",
    "    display(Markdown(result))\n",
    "    "
   ]
  },
  {
   "cell_type": "code",
   "execution_count": 19,
   "id": "108ff26e",
   "metadata": {},
   "outputs": [
    {
     "data": {
      "text/markdown": [
       "**Explanation of the Code**\n",
       "=====================================\n",
       "\n",
       "### Overview\n",
       "\n",
       "This line of code uses a combination of Python's iterator protocol, generator expressions, and the `yield from` syntax to fetch a list of authors from a collection of books.\n",
       "\n",
       "### Breakdown\n",
       "\n",
       "```markdown\n",
       "yield from {book.get(\"author\") for book in books if book.get(\"author\")}\n",
       "```\n",
       "\n",
       "*   **Dictionary comprehension**: `{book.get(\"author\") for book in books if book.get(\"author\")}` creates an iterator that yields the values associated with the key `\"author\"` for each dictionary (`book`) in the `books` collection.\n",
       "    *   The `if` condition filters out any dictionaries that do not have a key named `\"author\"`.\n",
       "*   **Generator expression**: This is equivalent to saying \"generate this value and remember where we left off so we can pick up again later.\" It allows us to use iteration instead of explicit looping.\n",
       "\n",
       "### Why `yield from`\n",
       "\n",
       "The `yield from` keyword is used in Python 3.3 onwards. When used with a generator or iterator expression, it yields the values yielded by the inner iterable (in this case, the dictionary comprehension).\n",
       "\n",
       "Here's what happens when you call the above code:\n",
       "\n",
       "1.  The dictionary comprehension `{book.get(\"author\") for book in books if book.get(\"author\")}` generates an iterator that iterates over each book in `books` and yields its author.\n",
       "2.  For each book, it checks whether `\"author\"` exists as a key in the book's dictionary using `book.get(\"author\")`. If present, it includes the value associated with `\"author\"`.\n",
       "3.  The `yield from` statement then uses this iterator to yield its values.\n",
       "\n",
       "### Equivalent Code\n",
       "\n",
       "You can write equivalent code using explicit loops:\n",
       "\n",
       "```python\n",
       "def get_authors(books):\n",
       "    authors = []\n",
       "    for book in books:\n",
       "        if \"author\" in book:\n",
       "            authors.append(book[\"author\"])\n",
       "    return authors\n",
       "\n",
       "# Using a generator expression (same as the original)\n",
       "def get_authors_generator(books):\n",
       "    return (book.get(\"author\") for book in books if book.get(\"author\"))\n",
       "\n",
       "# Using yield from\n",
       "def get_authors_yield_from(books):\n",
       "    for book in books:\n",
       "        if \"author\" in book:\n",
       "            yield book[\"author\"]\n",
       "```\n",
       "\n",
       "However, the original code with `yield from` is more concise and can be more memory-efficient because it avoids creating unnecessary lists or intermediate data structures."
      ],
      "text/plain": [
       "<IPython.core.display.Markdown object>"
      ]
     },
     "metadata": {},
     "output_type": "display_data"
    }
   ],
   "source": [
    "llama_tutor(question)"
   ]
  },
  {
   "cell_type": "code",
   "execution_count": null,
   "id": "01879d18",
   "metadata": {},
   "outputs": [],
   "source": []
  }
 ],
 "metadata": {
  "kernelspec": {
   "display_name": "Python 3 (ipykernel)",
   "language": "python",
   "name": "python3"
  },
  "language_info": {
   "codemirror_mode": {
    "name": "ipython",
    "version": 3
   },
   "file_extension": ".py",
   "mimetype": "text/x-python",
   "name": "python",
   "nbconvert_exporter": "python",
   "pygments_lexer": "ipython3",
   "version": "3.11.11"
  }
 },
 "nbformat": 4,
 "nbformat_minor": 5
}
