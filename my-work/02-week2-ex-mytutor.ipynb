{
 "cells": [
  {
   "cell_type": "markdown",
   "id": "b857e885",
   "metadata": {},
   "source": [
    "# Additional End of week Exercise - week 2\n",
    "\n",
    "Now use everything you've learned from Week 2 to build a full prototype for the technical question/answerer you built in Week 1 Exercise.\n",
    "\n",
    "This should include a Gradio UI, streaming, use of the system prompt to add expertise, and the ability to switch between models. Bonus points if you can demonstrate use of a tool!\n",
    "\n",
    "If you feel bold, see if you can add audio input so you can talk to it, and have it respond with audio. ChatGPT or Claude can help you, or email me if you have questions.\n",
    "\n",
    "I will publish a full solution here soon - unless someone beats me to it...\n",
    "\n",
    "There are so many commercial applications for this, from a language tutor, to a company onboarding solution, to a companion AI to a course (like this one!) I can't wait to see your results."
   ]
  },
  {
   "cell_type": "markdown",
   "id": "29c17db3",
   "metadata": {},
   "source": [
    "# My Tutor: Evolved"
   ]
  },
  {
   "cell_type": "markdown",
   "id": "23f34d7f",
   "metadata": {},
   "source": [
    "## Imports & Setup"
   ]
  },
  {
   "cell_type": "code",
   "execution_count": 1,
   "id": "58aec40a",
   "metadata": {},
   "outputs": [],
   "source": [
    "import os\n",
    "import json\n",
    "from dotenv import load_dotenv\n",
    "from IPython.display import Markdown, display, update_display\n",
    "\n",
    "from openai import OpenAI\n",
    "import ollama\n",
    "import gradio as gr\n",
    "\n",
    "# handling images\n",
    "import base64\n",
    "from io import BytesIO\n",
    "from PIL import Image\n",
    "\n",
    "# handling audio\n",
    "from pydub import AudioSegment\n",
    "from pydub.playback import play\n",
    "from pathlib import Path\n",
    "\n",
    "import sounddevice as sd \n",
    "import numpy as np \n",
    "import wave \n",
    "import threading \n",
    "import queue \n"
   ]
  },
  {
   "cell_type": "code",
   "execution_count": 2,
   "id": "e5fe012d",
   "metadata": {},
   "outputs": [
    {
     "name": "stdout",
     "output_type": "stream",
     "text": [
      "* 0 pulse, ALSA (32 in, 32 out)\n",
      "  1 default, ALSA (32 in, 32 out)\n"
     ]
    }
   ],
   "source": [
    "# Setting sudio device manually\n",
    "sd.default.device = 0\n",
    "\n",
    "print(sd.query_devices())"
   ]
  },
  {
   "cell_type": "markdown",
   "id": "a7440b0b",
   "metadata": {},
   "source": [
    "## Constants"
   ]
  },
  {
   "cell_type": "code",
   "execution_count": 3,
   "id": "4efc0119",
   "metadata": {},
   "outputs": [],
   "source": [
    "MODEL_GPT = \"gpt-4o-mini\"\n",
    "\n",
    "OLLAMA_API = \"http://localhost:11434/api/chat\"\n",
    "LL_HEADERS = {\"Content-Type\": \"application/json\"}\n",
    "MODEL_LLAMA = \"llama3.2\""
   ]
  },
  {
   "cell_type": "markdown",
   "id": "5b6a1445",
   "metadata": {},
   "source": [
    "## Environment & Initialization"
   ]
  },
  {
   "cell_type": "code",
   "execution_count": 4,
   "id": "e4b7313f",
   "metadata": {},
   "outputs": [
    {
     "name": "stdout",
     "output_type": "stream",
     "text": [
      "OpenAI key exists and begins with sk-proj-\n"
     ]
    }
   ],
   "source": [
    "load_dotenv(override=True)\n",
    "\n",
    "# OpenAI\n",
    "openai_api_key = os.getenv('OPENAI_API_KEY')\n",
    "if openai_api_key:\n",
    "    print(f\"OpenAI key exists and begins with {openai_api_key[:8]}\")\n",
    "else:\n",
    "    print(\"OpenAI key not set\")\n",
    "\n",
    "openai = OpenAI()"
   ]
  },
  {
   "cell_type": "markdown",
   "id": "efbf7bb1",
   "metadata": {},
   "source": [
    "## Prompts"
   ]
  },
  {
   "cell_type": "code",
   "execution_count": 5,
   "id": "fab58ac2",
   "metadata": {},
   "outputs": [],
   "source": [
    "system_prompt = \"You are an assistant that takes technical questions and responds with an explanation, like a tutor. You should gently encourage the student to ask a question.\""
   ]
  },
  {
   "cell_type": "code",
   "execution_count": 6,
   "id": "fe06d25f",
   "metadata": {},
   "outputs": [],
   "source": [
    "def user_prompt_question(question):\n",
    "    user_prompt = \"You are a tutor assistant. Please provide an answer and explanation. Respond in Markdown. \\nThe question is as follows: \\n\\n\"\n",
    "    user_prompt += question\n",
    "    return user_prompt"
   ]
  },
  {
   "cell_type": "code",
   "execution_count": 7,
   "id": "92e85183",
   "metadata": {},
   "outputs": [],
   "source": [
    "example_question = \"\"\"\n",
    "Please explain what this code does and why:\n",
    "yeild from {book.get(\"author\") for book in books if book.get(\"author\")}\n",
    "\"\"\""
   ]
  },
  {
   "cell_type": "code",
   "execution_count": 8,
   "id": "eb3bb6b1",
   "metadata": {},
   "outputs": [
    {
     "name": "stdout",
     "output_type": "stream",
     "text": [
      "You are a tutor assistant. Please provide an answer and explanation. Respond in Markdown. \n",
      "The question is as follows: \n",
      "\n",
      "\n",
      "Please explain what this code does and why:\n",
      "yeild from {book.get(\"author\") for book in books if book.get(\"author\")}\n",
      "\n"
     ]
    }
   ],
   "source": [
    "print(user_prompt_question(example_question))"
   ]
  },
  {
   "cell_type": "markdown",
   "id": "839577de",
   "metadata": {},
   "source": [
    "## Chat Function w History"
   ]
  },
  {
   "cell_type": "markdown",
   "id": "0c62497b",
   "metadata": {},
   "source": [
    "### OpenAI"
   ]
  },
  {
   "cell_type": "code",
   "execution_count": null,
   "id": "1027723a",
   "metadata": {},
   "outputs": [],
   "source": [
    "def chat_gpt(message, history):\n",
    "\n",
    "    messages = [{\"role\": \"system\", \"content\": system_prompt}] + history + [{\"role\": \"user\", \"content\": message}]\n",
    "\n",
    "    stream = openai.chat.completions.create(model=MODEL_GPT, messages=messages, stream=True)\n",
    "\n",
    "    response = \"\"\n",
    "    for chunk in stream:\n",
    "        response += chunk.choices[0].delta.content or ''\n",
    "        yield response"
   ]
  },
  {
   "cell_type": "code",
   "execution_count": null,
   "id": "900b62c4",
   "metadata": {},
   "outputs": [],
   "source": [
    "gr.ChatInterface(fn=chat_gpt, type=\"messages\").launch()"
   ]
  },
  {
   "cell_type": "markdown",
   "id": "1f62fb51",
   "metadata": {},
   "source": [
    "### Llama 3.2"
   ]
  },
  {
   "cell_type": "code",
   "execution_count": null,
   "id": "e86ca897",
   "metadata": {},
   "outputs": [],
   "source": [
    "def chat_llama(message, history):\n",
    "    messages = [{\"role\": \"system\", \"content\": system_prompt}] + history + [{\"role\": \"user\", \"content\": message}]\n",
    "\n",
    "    stream = ollama.chat(model=MODEL_LLAMA, messages=messages, stream=True)\n",
    "\n",
    "    response_text = \"\"\n",
    "    for chunk in stream:\n",
    "        response_text += chunk['message']['content']\n",
    "        yield response_text\n"
   ]
  },
  {
   "cell_type": "code",
   "execution_count": null,
   "id": "83ead543",
   "metadata": {},
   "outputs": [],
   "source": [
    "gr.ChatInterface(fn=chat_llama, type=\"messages\").launch()"
   ]
  },
  {
   "cell_type": "code",
   "execution_count": 12,
   "id": "f0c501e7",
   "metadata": {},
   "outputs": [],
   "source": [
    "def talker_gpt_realtime(message):\n",
    "    # Passes audio chunks from the network thread to the playback thread\n",
    "    audio_queue = queue.Queue()\n",
    "\n",
    "    # Reads small audio buffers and plays them with sounddevice\n",
    "    def audio_player(q):\n",
    "        # OpenAI TTS output usually 24kHz\n",
    "        samplerate = 24000\n",
    "        # playing = False\n",
    "        frames = []\n",
    "\n",
    "        buffer = BytesIO()\n",
    "\n",
    "        while True:\n",
    "            chunk = q.get()\n",
    "            if chunk is None:\n",
    "                break\n",
    "\n",
    "            buffer.write(chunk)\n",
    "\n",
    "            # Only attempt to read if we have enough data\n",
    "            if buffer.tell() > 4096: # wait until at least 4KB\n",
    "                try:\n",
    "                    buffer.seek(0)\n",
    "                    with wave.open(buffer, 'rb') as wf:\n",
    "                        frame_data = wf.readframes(wf.getnframes())\n",
    "                        if frame_data:\n",
    "                            samples = np.frombuffer(frame_data, dtype=np.int16)\n",
    "                            frames.append(samples)\n",
    "                except wave.Error:\n",
    "                    pass\n",
    "                buffer.seek(0, 2) # back to end for next write\n",
    "                \n",
    "        # after done streaming, play all frames\n",
    "        if frames:\n",
    "            audio_data = np.concatenate(frames)\n",
    "            sd.play(audio_data, samplerate=samplerate)\n",
    "            sd.wait()\n",
    "\n",
    "    player_thread = threading.Thread(target=audio_player, args=(audio_queue,))\n",
    "    player_thread.start()\n",
    "\n",
    "\n",
    "    with openai.audio.speech.with_streaming_response.create(\n",
    "        model=\"tts-1\",\n",
    "        voice=\"onyx\",  # can also try alloy\n",
    "        input=message,\n",
    "        response_format=\"wav\",\n",
    "    ) as response:\n",
    "        # when chunk arrives, it's fed into queue\n",
    "        for chunk in response.iter_bytes():\n",
    "                if chunk:\n",
    "                    audio_queue.put(chunk)\n",
    "\n",
    "    # Signal player thread to stop, stream has finished\n",
    "    audio_queue.put(None)\n",
    "    player_thread.join()"
   ]
  },
  {
   "cell_type": "code",
   "execution_count": 13,
   "id": "8c15794c",
   "metadata": {},
   "outputs": [],
   "source": [
    "def chat_speak_gpt(message, history):\n",
    "    \"\"\"\n",
    "    Sends a user message, streams back the assistant's reply, \n",
    "    and speaks chunks as they arrive.\n",
    "    \"\"\"\n",
    "    messages = [{\"role\": \"system\", \"content\": system_prompt}] + history + [{\"role\": \"user\", \"content\": message}]\n",
    "    stream = openai.chat.completions.create(model=MODEL_GPT, messages=messages, stream=True)\n",
    "\n",
    "    response = \"\"\n",
    "    buffer = \"\"\n",
    "\n",
    "    for chunk in stream:\n",
    "        delta = chunk.choices[0].delta.content or ''\n",
    "        response += delta\n",
    "        buffer += delta\n",
    "        \n",
    "        # If buffer is big enough (end of sentence or > 30 characters), speak it\n",
    "        if any(punct in buffer for punct in ['.', '?', '!']) or len(buffer) > 30:\n",
    "            text_to_speak = buffer.strip()\n",
    "            if text_to_speak:\n",
    "                talker_gpt_realtime(text_to_speak)\n",
    "            # clear buffer after speaking\n",
    "            buffer = \"\"\n",
    "\n",
    "        yield response\n",
    "\n",
    "    # Speak any leftover text\n",
    "    if buffer.strip():\n",
    "        talker_gpt_realtime(buffer.strip())\n"
   ]
  },
  {
   "cell_type": "code",
   "execution_count": 14,
   "id": "5383dae5",
   "metadata": {},
   "outputs": [
    {
     "name": "stdout",
     "output_type": "stream",
     "text": [
      "* Running on local URL:  http://127.0.0.1:7861\n",
      "\n",
      "To create a public link, set `share=True` in `launch()`.\n"
     ]
    },
    {
     "data": {
      "text/html": [
       "<div><iframe src=\"http://127.0.0.1:7861/\" width=\"100%\" height=\"500\" allow=\"autoplay; camera; microphone; clipboard-read; clipboard-write;\" frameborder=\"0\" allowfullscreen></iframe></div>"
      ],
      "text/plain": [
       "<IPython.core.display.HTML object>"
      ]
     },
     "metadata": {},
     "output_type": "display_data"
    },
    {
     "data": {
      "text/plain": []
     },
     "execution_count": 14,
     "metadata": {},
     "output_type": "execute_result"
    },
    {
     "name": "stderr",
     "output_type": "stream",
     "text": [
      "Exception in thread Thread-77 (audio_player):\n",
      "Traceback (most recent call last):\n",
      "  File \"/home/ksg-dev/.pyenv/versions/3.12.3/lib/python3.12/threading.py\", line 1073, in _bootstrap_inner\n",
      "    self.run()\n",
      "  File \"/home/ksg-dev/.pyenv/versions/3.12.3/lib/python3.12/site-packages/ipykernel/ipkernel.py\", line 766, in run_closure\n",
      "    _threading_Thread_run(self)\n",
      "  File \"/home/ksg-dev/.pyenv/versions/3.12.3/lib/python3.12/threading.py\", line 1010, in run\n",
      "    self._target(*self._args, **self._kwargs)\n",
      "  File \"/tmp/ipykernel_407005/3394933462.py\", line 28, in audio_player\n",
      "ValueError: buffer size must be a multiple of element size\n",
      "Exception in thread Thread-78 (audio_player):\n",
      "Traceback (most recent call last):\n",
      "  File \"/home/ksg-dev/.pyenv/versions/3.12.3/lib/python3.12/threading.py\", line 1073, in _bootstrap_inner\n",
      "    self.run()\n",
      "  File \"/home/ksg-dev/.pyenv/versions/3.12.3/lib/python3.12/site-packages/ipykernel/ipkernel.py\", line 766, in run_closure\n",
      "    _threading_Thread_run(self)\n",
      "  File \"/home/ksg-dev/.pyenv/versions/3.12.3/lib/python3.12/threading.py\", line 1010, in run\n",
      "    self._target(*self._args, **self._kwargs)\n",
      "  File \"/tmp/ipykernel_407005/3394933462.py\", line 28, in audio_player\n",
      "ValueError: buffer size must be a multiple of element size\n",
      "Exception in thread Thread-79 (audio_player):\n",
      "Traceback (most recent call last):\n",
      "  File \"/home/ksg-dev/.pyenv/versions/3.12.3/lib/python3.12/threading.py\", line 1073, in _bootstrap_inner\n",
      "    self.run()\n",
      "  File \"/home/ksg-dev/.pyenv/versions/3.12.3/lib/python3.12/site-packages/ipykernel/ipkernel.py\", line 766, in run_closure\n",
      "    _threading_Thread_run(self)\n",
      "  File \"/home/ksg-dev/.pyenv/versions/3.12.3/lib/python3.12/threading.py\", line 1010, in run\n",
      "    self._target(*self._args, **self._kwargs)\n",
      "  File \"/tmp/ipykernel_407005/3394933462.py\", line 28, in audio_player\n",
      "ValueError: buffer size must be a multiple of element size\n",
      "Exception in thread Thread-80 (audio_player):\n",
      "Traceback (most recent call last):\n",
      "  File \"/home/ksg-dev/.pyenv/versions/3.12.3/lib/python3.12/threading.py\", line 1073, in _bootstrap_inner\n",
      "    self.run()\n",
      "  File \"/home/ksg-dev/.pyenv/versions/3.12.3/lib/python3.12/site-packages/ipykernel/ipkernel.py\", line 766, in run_closure\n",
      "    _threading_Thread_run(self)\n",
      "  File \"/home/ksg-dev/.pyenv/versions/3.12.3/lib/python3.12/threading.py\", line 1010, in run\n",
      "    self._target(*self._args, **self._kwargs)\n",
      "  File \"/tmp/ipykernel_407005/3394933462.py\", line 28, in audio_player\n",
      "ValueError: buffer size must be a multiple of element size\n",
      "Exception in thread Thread-81 (audio_player):\n",
      "Traceback (most recent call last):\n",
      "  File \"/home/ksg-dev/.pyenv/versions/3.12.3/lib/python3.12/threading.py\", line 1073, in _bootstrap_inner\n",
      "    self.run()\n",
      "  File \"/home/ksg-dev/.pyenv/versions/3.12.3/lib/python3.12/site-packages/ipykernel/ipkernel.py\", line 766, in run_closure\n",
      "    _threading_Thread_run(self)\n",
      "  File \"/home/ksg-dev/.pyenv/versions/3.12.3/lib/python3.12/threading.py\", line 1010, in run\n",
      "    self._target(*self._args, **self._kwargs)\n",
      "  File \"/tmp/ipykernel_407005/3394933462.py\", line 28, in audio_player\n",
      "ValueError: buffer size must be a multiple of element size\n"
     ]
    }
   ],
   "source": [
    "gr.ChatInterface(fn=chat_speak_gpt, type=\"messages\").launch()"
   ]
  },
  {
   "cell_type": "code",
   "execution_count": null,
   "id": "5fe05722",
   "metadata": {},
   "outputs": [],
   "source": [
    "# # More involved Gradio code as we're not using the preset chat interface\n",
    "# # Passing in inbrowser=True in the last line will cause a Gradio window to pop up immediately\n",
    "\n",
    "# with gr.Blocks() as ui:\n",
    "#     with gr.Row():\n",
    "#         chatbot = gr.Chatbot(height=500, type=\"messages\")\n",
    "#     with gr.Row():\n",
    "#         entry = gr.Textbox(label=\"Chat with your Tutor:\")\n",
    "#     with gr.Row():\n",
    "#         clear = gr.Button(\"Clear\")\n",
    "\n",
    "    \n",
    "#     def do_entry(message, history):\n",
    "#         history += [{\"role\": \"user\", \"content\": message}]\n",
    "#         return \"\", history\n",
    "    \n",
    "#     entry.submit(do_entry, inputs=[entry, chatbot], outputs=[entry, chatbot]).then(\n",
    "#         chat_gpt, inputs=chatbot, outputs=[chatbot]\n",
    "#     )\n",
    "#     clear.click(lambda: None, inputs=None, outputs=chatbot, queue=False)\n",
    "\n",
    "# ui.launch()"
   ]
  },
  {
   "cell_type": "code",
   "execution_count": null,
   "id": "75e2d74e",
   "metadata": {},
   "outputs": [],
   "source": []
  }
 ],
 "metadata": {
  "kernelspec": {
   "display_name": "Python (pyenv 3.12.3)",
   "language": "python",
   "name": "pyenv312"
  },
  "language_info": {
   "codemirror_mode": {
    "name": "ipython",
    "version": 3
   },
   "file_extension": ".py",
   "mimetype": "text/x-python",
   "name": "python",
   "nbconvert_exporter": "python",
   "pygments_lexer": "ipython3",
   "version": "3.12.3"
  }
 },
 "nbformat": 4,
 "nbformat_minor": 5
}
