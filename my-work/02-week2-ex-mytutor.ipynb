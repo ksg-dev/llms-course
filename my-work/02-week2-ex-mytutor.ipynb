{
 "cells": [
  {
   "cell_type": "markdown",
   "id": "b857e885",
   "metadata": {},
   "source": [
    "# Additional End of week Exercise - week 2\n",
    "\n",
    "Now use everything you've learned from Week 2 to build a full prototype for the technical question/answerer you built in Week 1 Exercise.\n",
    "\n",
    "This should include a Gradio UI, streaming, use of the system prompt to add expertise, and the ability to switch between models. Bonus points if you can demonstrate use of a tool!\n",
    "\n",
    "If you feel bold, see if you can add audio input so you can talk to it, and have it respond with audio. ChatGPT or Claude can help you, or email me if you have questions.\n",
    "\n",
    "I will publish a full solution here soon - unless someone beats me to it...\n",
    "\n",
    "There are so many commercial applications for this, from a language tutor, to a company onboarding solution, to a companion AI to a course (like this one!) I can't wait to see your results."
   ]
  },
  {
   "cell_type": "markdown",
   "id": "29c17db3",
   "metadata": {},
   "source": [
    "# My Tutor: Evolved"
   ]
  },
  {
   "cell_type": "markdown",
   "id": "23f34d7f",
   "metadata": {},
   "source": [
    "## Imports & Setup"
   ]
  },
  {
   "cell_type": "code",
   "execution_count": 18,
   "id": "58aec40a",
   "metadata": {},
   "outputs": [],
   "source": [
    "import os\n",
    "import json\n",
    "from dotenv import load_dotenv\n",
    "from IPython.display import Markdown, display, update_display\n",
    "\n",
    "from openai import OpenAI\n",
    "import ollama\n",
    "import gradio as gr\n",
    "\n",
    "# handling images\n",
    "import base64\n",
    "from io import BytesIO\n",
    "from PIL import Image\n",
    "\n",
    "# handling audio\n",
    "from pydub import AudioSegment\n",
    "from pydub.playback import play\n",
    "from pathlib import Path\n",
    "\n",
    "import sounddevice as sd \n",
    "import numpy as np \n",
    "import wave \n",
    "import threading \n",
    "import queue \n"
   ]
  },
  {
   "cell_type": "markdown",
   "id": "a7440b0b",
   "metadata": {},
   "source": [
    "## Constants"
   ]
  },
  {
   "cell_type": "code",
   "execution_count": 2,
   "id": "4efc0119",
   "metadata": {},
   "outputs": [],
   "source": [
    "MODEL_GPT = \"gpt-4o-mini\"\n",
    "\n",
    "OLLAMA_API = \"http://localhost:11434/api/chat\"\n",
    "LL_HEADERS = {\"Content-Type\": \"application/json\"}\n",
    "MODEL_LLAMA = \"llama3.2\""
   ]
  },
  {
   "cell_type": "markdown",
   "id": "5b6a1445",
   "metadata": {},
   "source": [
    "## Environment & Initialization"
   ]
  },
  {
   "cell_type": "code",
   "execution_count": 3,
   "id": "e4b7313f",
   "metadata": {},
   "outputs": [
    {
     "name": "stdout",
     "output_type": "stream",
     "text": [
      "OpenAI key exists and begins with sk-proj-\n"
     ]
    }
   ],
   "source": [
    "load_dotenv(override=True)\n",
    "\n",
    "# OpenAI\n",
    "openai_api_key = os.getenv('OPENAI_API_KEY')\n",
    "if openai_api_key:\n",
    "    print(f\"OpenAI key exists and begins with {openai_api_key[:8]}\")\n",
    "else:\n",
    "    print(\"OpenAI key not set\")\n",
    "\n",
    "openai = OpenAI()"
   ]
  },
  {
   "cell_type": "markdown",
   "id": "efbf7bb1",
   "metadata": {},
   "source": [
    "## Prompts"
   ]
  },
  {
   "cell_type": "code",
   "execution_count": 4,
   "id": "fab58ac2",
   "metadata": {},
   "outputs": [],
   "source": [
    "system_prompt = \"You are an assistant that takes technical questions and responds with an explanation, like a tutor. You should gently encourage the student to ask a question.\""
   ]
  },
  {
   "cell_type": "code",
   "execution_count": 5,
   "id": "fe06d25f",
   "metadata": {},
   "outputs": [],
   "source": [
    "def user_prompt_question(question):\n",
    "    user_prompt = \"You are a tutor assistant. Please provide an answer and explanation. Respond in Markdown. \\nThe question is as follows: \\n\\n\"\n",
    "    user_prompt += question\n",
    "    return user_prompt"
   ]
  },
  {
   "cell_type": "code",
   "execution_count": 6,
   "id": "92e85183",
   "metadata": {},
   "outputs": [],
   "source": [
    "example_question = \"\"\"\n",
    "Please explain what this code does and why:\n",
    "yeild from {book.get(\"author\") for book in books if book.get(\"author\")}\n",
    "\"\"\""
   ]
  },
  {
   "cell_type": "code",
   "execution_count": 7,
   "id": "eb3bb6b1",
   "metadata": {},
   "outputs": [
    {
     "name": "stdout",
     "output_type": "stream",
     "text": [
      "You are a tutor assistant. Please provide an answer and explanation. Respond in Markdown. \n",
      "The question is as follows: \n",
      "\n",
      "\n",
      "Please explain what this code does and why:\n",
      "yeild from {book.get(\"author\") for book in books if book.get(\"author\")}\n",
      "\n"
     ]
    }
   ],
   "source": [
    "print(user_prompt_question(example_question))"
   ]
  },
  {
   "cell_type": "markdown",
   "id": "839577de",
   "metadata": {},
   "source": [
    "## Chat Function w History"
   ]
  },
  {
   "cell_type": "markdown",
   "id": "0c62497b",
   "metadata": {},
   "source": [
    "### OpenAI"
   ]
  },
  {
   "cell_type": "code",
   "execution_count": 8,
   "id": "1027723a",
   "metadata": {},
   "outputs": [],
   "source": [
    "def chat_gpt(message, history):\n",
    "\n",
    "    messages = [{\"role\": \"system\", \"content\": system_prompt}] + history + [{\"role\": \"user\", \"content\": message}]\n",
    "\n",
    "    stream = openai.chat.completions.create(model=MODEL_GPT, messages=messages, stream=True)\n",
    "\n",
    "    response = \"\"\n",
    "    for chunk in stream:\n",
    "        response += chunk.choices[0].delta.content or ''\n",
    "        yield response"
   ]
  },
  {
   "cell_type": "code",
   "execution_count": 9,
   "id": "900b62c4",
   "metadata": {},
   "outputs": [
    {
     "name": "stdout",
     "output_type": "stream",
     "text": [
      "* Running on local URL:  http://127.0.0.1:7860\n",
      "\n",
      "To create a public link, set `share=True` in `launch()`.\n"
     ]
    },
    {
     "data": {
      "text/html": [
       "<div><iframe src=\"http://127.0.0.1:7860/\" width=\"100%\" height=\"500\" allow=\"autoplay; camera; microphone; clipboard-read; clipboard-write;\" frameborder=\"0\" allowfullscreen></iframe></div>"
      ],
      "text/plain": [
       "<IPython.core.display.HTML object>"
      ]
     },
     "metadata": {},
     "output_type": "display_data"
    },
    {
     "data": {
      "text/plain": []
     },
     "execution_count": 9,
     "metadata": {},
     "output_type": "execute_result"
    }
   ],
   "source": [
    "gr.ChatInterface(fn=chat_gpt, type=\"messages\").launch()"
   ]
  },
  {
   "cell_type": "markdown",
   "id": "1f62fb51",
   "metadata": {},
   "source": [
    "### Llama 3.2"
   ]
  },
  {
   "cell_type": "code",
   "execution_count": 10,
   "id": "e86ca897",
   "metadata": {},
   "outputs": [],
   "source": [
    "def chat_llama(message, history):\n",
    "    messages = [{\"role\": \"system\", \"content\": system_prompt}] + history + [{\"role\": \"user\", \"content\": message}]\n",
    "\n",
    "    stream = ollama.chat(model=MODEL_LLAMA, messages=messages, stream=True)\n",
    "\n",
    "    response_text = \"\"\n",
    "    for chunk in stream:\n",
    "        response_text += chunk['message']['content']\n",
    "        yield response_text\n"
   ]
  },
  {
   "cell_type": "code",
   "execution_count": 11,
   "id": "83ead543",
   "metadata": {},
   "outputs": [
    {
     "name": "stdout",
     "output_type": "stream",
     "text": [
      "* Running on local URL:  http://127.0.0.1:7861\n",
      "\n",
      "To create a public link, set `share=True` in `launch()`.\n"
     ]
    },
    {
     "data": {
      "text/html": [
       "<div><iframe src=\"http://127.0.0.1:7861/\" width=\"100%\" height=\"500\" allow=\"autoplay; camera; microphone; clipboard-read; clipboard-write;\" frameborder=\"0\" allowfullscreen></iframe></div>"
      ],
      "text/plain": [
       "<IPython.core.display.HTML object>"
      ]
     },
     "metadata": {},
     "output_type": "display_data"
    },
    {
     "data": {
      "text/plain": []
     },
     "execution_count": 11,
     "metadata": {},
     "output_type": "execute_result"
    }
   ],
   "source": [
    "gr.ChatInterface(fn=chat_llama, type=\"messages\").launch()"
   ]
  },
  {
   "cell_type": "code",
   "execution_count": 19,
   "id": "f0c501e7",
   "metadata": {},
   "outputs": [],
   "source": [
    "def talker_gpt_realtime(message):\n",
    "    # Passes audio chunks from the network thread to the playback thread\n",
    "    audio_queue = queue.Queue()\n",
    "\n",
    "    # Reads small audio buffers and plays them with sounddevice\n",
    "    def audio_player(q):\n",
    "        # OpenAI TTS output usually 24kHz\n",
    "        samplerate = 24000\n",
    "        playing = False\n",
    "        frames = []\n",
    "\n",
    "        while True:\n",
    "            chunk = q.get()\n",
    "            if chunk is None:\n",
    "                break\n",
    "\n",
    "            buffer = BytesIO(chunk)\n",
    "\n",
    "\n",
    "            try:\n",
    "                with wave.open(buffer, 'rb') as wf:\n",
    "                    frame_data = wf.readframes(wf.getnframes())\n",
    "                    if frame_data:\n",
    "                        frames.append(np.frombuffer(frame_data, dtype=np.int16))\n",
    "\n",
    "            except wave.Error:\n",
    "                # Might get partial/incomplete frame data = just skip\n",
    "                continue\n",
    "\n",
    "            if not playing and frames:\n",
    "                audio_data = np.concatenate(frames)\n",
    "                frames=[]\n",
    "                sd.play(audio_data, samplerate=samplerate)\n",
    "                playing = True\n",
    "            elif playing and frames:\n",
    "                # append new frames while playing\n",
    "                audio_data = np.concatenate(frames)\n",
    "                frames = []\n",
    "                sd.play(audio_data, samplerate=samplerate)\n",
    "\n",
    "        if frames:\n",
    "            audio_data = np.concatenate(frames)\n",
    "            sd.play(audio_data, samplerate=samplerate)\n",
    "            sd.wait()\n",
    "\n",
    "    player_thread = threading.Thread(target=audio_player, args=(audio_queue))\n",
    "    player_thread.start()\n",
    "\n",
    "\n",
    "    with openai.audio.speech.with_streaming_response.create(\n",
    "        model=\"tts-1\",\n",
    "        voice=\"onyx\",  # can also try alloy\n",
    "        input=message,\n",
    "        response_format=\"wav\",\n",
    "    ) as response:\n",
    "        # when chunk arrives, it's fed into queue\n",
    "        for chunk in response.iter_bytes():\n",
    "                if chunk:\n",
    "                    audio_queue.put(chunk)\n",
    "\n",
    "    # Signal player thread to stop, stream has finished\n",
    "    audio_queue.put(None)\n",
    "    player_thread.join()"
   ]
  },
  {
   "cell_type": "code",
   "execution_count": 20,
   "id": "8c15794c",
   "metadata": {},
   "outputs": [],
   "source": [
    "def chat_gpt(message, history):\n",
    "    messages = [{\"role\": \"system\", \"content\": system_prompt}] + history + [{\"role\": \"user\", \"content\": message}]\n",
    "    stream = openai.chat.completions.create(model=MODEL_GPT, messages=messages, stream=True)\n",
    "\n",
    "    response = \"\"\n",
    "    buffer = \"\"\n",
    "\n",
    "    for chunk in stream:\n",
    "        delta = chunk.choices[0].delta.content or ''\n",
    "        response += delta\n",
    "        buffer += delta\n",
    "        \n",
    "        # If buffer is big enough (end of sentence or > 30 characters), speak it\n",
    "        if any(punct in buffer for punct in ['.', '?', '!']) or len(buffer) > 30:\n",
    "            talker_gpt_realtime(buffer.strip())\n",
    "            # clear buffer after speaking\n",
    "            buffer = \"\"\n",
    "\n",
    "        yield response\n",
    "\n",
    "    # Speak any leftover text\n",
    "    if buffer.strip():\n",
    "        talker_gpt_realtime(buffer.strip())\n"
   ]
  },
  {
   "cell_type": "code",
   "execution_count": 21,
   "id": "5383dae5",
   "metadata": {},
   "outputs": [
    {
     "name": "stdout",
     "output_type": "stream",
     "text": [
      "* Running on local URL:  http://127.0.0.1:7863\n",
      "\n",
      "To create a public link, set `share=True` in `launch()`.\n"
     ]
    },
    {
     "data": {
      "text/html": [
       "<div><iframe src=\"http://127.0.0.1:7863/\" width=\"100%\" height=\"500\" allow=\"autoplay; camera; microphone; clipboard-read; clipboard-write;\" frameborder=\"0\" allowfullscreen></iframe></div>"
      ],
      "text/plain": [
       "<IPython.core.display.HTML object>"
      ]
     },
     "metadata": {},
     "output_type": "display_data"
    },
    {
     "data": {
      "text/plain": []
     },
     "execution_count": 21,
     "metadata": {},
     "output_type": "execute_result"
    },
    {
     "name": "stderr",
     "output_type": "stream",
     "text": [
      "Exception in thread Thread-282 (audio_player):\n",
      "Traceback (most recent call last):\n",
      "  File \"/home/ksg-dev/anaconda3/envs/llms/lib/python3.11/threading.py\", line 1045, in _bootstrap_inner\n",
      "    self.run()\n",
      "  File \"/home/ksg-dev/anaconda3/envs/llms/lib/python3.11/site-packages/ipykernel/ipkernel.py\", line 766, in run_closure\n",
      "    _threading_Thread_run(self)\n",
      "  File \"/home/ksg-dev/anaconda3/envs/llms/lib/python3.11/threading.py\", line 982, in run\n",
      "    self._target(*self._args, **self._kwargs)\n",
      "TypeError: __main__.talker_gpt_realtime.<locals>.audio_player() argument after * must be an iterable, not Queue\n",
      "Exception in thread Thread-283 (audio_player):\n",
      "Traceback (most recent call last):\n",
      "  File \"/home/ksg-dev/anaconda3/envs/llms/lib/python3.11/threading.py\", line 1045, in _bootstrap_inner\n",
      "    self.run()\n",
      "  File \"/home/ksg-dev/anaconda3/envs/llms/lib/python3.11/site-packages/ipykernel/ipkernel.py\", line 766, in run_closure\n",
      "    _threading_Thread_run(self)\n",
      "  File \"/home/ksg-dev/anaconda3/envs/llms/lib/python3.11/threading.py\", line 982, in run\n",
      "    self._target(*self._args, **self._kwargs)\n",
      "TypeError: __main__.talker_gpt_realtime.<locals>.audio_player() argument after * must be an iterable, not Queue\n",
      "Exception in thread Thread-284 (audio_player):\n",
      "Traceback (most recent call last):\n",
      "  File \"/home/ksg-dev/anaconda3/envs/llms/lib/python3.11/threading.py\", line 1045, in _bootstrap_inner\n",
      "    self.run()\n",
      "  File \"/home/ksg-dev/anaconda3/envs/llms/lib/python3.11/site-packages/ipykernel/ipkernel.py\", line 766, in run_closure\n",
      "    _threading_Thread_run(self)\n",
      "  File \"/home/ksg-dev/anaconda3/envs/llms/lib/python3.11/threading.py\", line 982, in run\n",
      "    self._target(*self._args, **self._kwargs)\n",
      "TypeError: __main__.talker_gpt_realtime.<locals>.audio_player() argument after * must be an iterable, not Queue\n",
      "Exception in thread Thread-285 (audio_player):\n",
      "Traceback (most recent call last):\n",
      "  File \"/home/ksg-dev/anaconda3/envs/llms/lib/python3.11/threading.py\", line 1045, in _bootstrap_inner\n",
      "    self.run()\n",
      "  File \"/home/ksg-dev/anaconda3/envs/llms/lib/python3.11/site-packages/ipykernel/ipkernel.py\", line 766, in run_closure\n",
      "    _threading_Thread_run(self)\n",
      "  File \"/home/ksg-dev/anaconda3/envs/llms/lib/python3.11/threading.py\", line 982, in run\n",
      "    self._target(*self._args, **self._kwargs)\n",
      "TypeError: __main__.talker_gpt_realtime.<locals>.audio_player() argument after * must be an iterable, not Queue\n",
      "Exception in thread Thread-286 (audio_player):\n",
      "Traceback (most recent call last):\n",
      "  File \"/home/ksg-dev/anaconda3/envs/llms/lib/python3.11/threading.py\", line 1045, in _bootstrap_inner\n",
      "    self.run()\n",
      "  File \"/home/ksg-dev/anaconda3/envs/llms/lib/python3.11/site-packages/ipykernel/ipkernel.py\", line 766, in run_closure\n",
      "    _threading_Thread_run(self)\n",
      "  File \"/home/ksg-dev/anaconda3/envs/llms/lib/python3.11/threading.py\", line 982, in run\n",
      "    self._target(*self._args, **self._kwargs)\n",
      "TypeError: __main__.talker_gpt_realtime.<locals>.audio_player() argument after * must be an iterable, not Queue\n"
     ]
    }
   ],
   "source": [
    "gr.ChatInterface(fn=chat_gpt, type=\"messages\").launch()"
   ]
  },
  {
   "cell_type": "code",
   "execution_count": 20,
   "id": "5fe05722",
   "metadata": {},
   "outputs": [
    {
     "name": "stdout",
     "output_type": "stream",
     "text": [
      "* Running on local URL:  http://127.0.0.1:7874\n",
      "\n",
      "To create a public link, set `share=True` in `launch()`.\n"
     ]
    },
    {
     "data": {
      "text/html": [
       "<div><iframe src=\"http://127.0.0.1:7874/\" width=\"100%\" height=\"500\" allow=\"autoplay; camera; microphone; clipboard-read; clipboard-write;\" frameborder=\"0\" allowfullscreen></iframe></div>"
      ],
      "text/plain": [
       "<IPython.core.display.HTML object>"
      ]
     },
     "metadata": {},
     "output_type": "display_data"
    },
    {
     "data": {
      "text/plain": []
     },
     "execution_count": 20,
     "metadata": {},
     "output_type": "execute_result"
    },
    {
     "name": "stderr",
     "output_type": "stream",
     "text": [
      "Traceback (most recent call last):\n",
      "  File \"/home/ksg-dev/anaconda3/envs/llms/lib/python3.11/site-packages/gradio/queueing.py\", line 625, in process_events\n",
      "    response = await route_utils.call_process_api(\n",
      "               ^^^^^^^^^^^^^^^^^^^^^^^^^^^^^^^^^^^\n",
      "  File \"/home/ksg-dev/anaconda3/envs/llms/lib/python3.11/site-packages/gradio/route_utils.py\", line 322, in call_process_api\n",
      "    output = await app.get_blocks().process_api(\n",
      "             ^^^^^^^^^^^^^^^^^^^^^^^^^^^^^^^^^^^\n",
      "  File \"/home/ksg-dev/anaconda3/envs/llms/lib/python3.11/site-packages/gradio/blocks.py\", line 2137, in process_api\n",
      "    result = await self.call_function(\n",
      "             ^^^^^^^^^^^^^^^^^^^^^^^^^\n",
      "  File \"/home/ksg-dev/anaconda3/envs/llms/lib/python3.11/site-packages/gradio/blocks.py\", line 1675, in call_function\n",
      "    prediction = await utils.async_iteration(iterator)\n",
      "                 ^^^^^^^^^^^^^^^^^^^^^^^^^^^^^^^^^^^^^\n",
      "  File \"/home/ksg-dev/anaconda3/envs/llms/lib/python3.11/site-packages/gradio/utils.py\", line 735, in async_iteration\n",
      "    return await anext(iterator)\n",
      "           ^^^^^^^^^^^^^^^^^^^^^\n",
      "  File \"/home/ksg-dev/anaconda3/envs/llms/lib/python3.11/site-packages/gradio/utils.py\", line 729, in __anext__\n",
      "    return await anyio.to_thread.run_sync(\n",
      "           ^^^^^^^^^^^^^^^^^^^^^^^^^^^^^^^\n",
      "  File \"/home/ksg-dev/anaconda3/envs/llms/lib/python3.11/site-packages/anyio/to_thread.py\", line 56, in run_sync\n",
      "    return await get_async_backend().run_sync_in_worker_thread(\n",
      "           ^^^^^^^^^^^^^^^^^^^^^^^^^^^^^^^^^^^^^^^^^^^^^^^^^^^^\n",
      "  File \"/home/ksg-dev/anaconda3/envs/llms/lib/python3.11/site-packages/anyio/_backends/_asyncio.py\", line 2470, in run_sync_in_worker_thread\n",
      "    return await future\n",
      "           ^^^^^^^^^^^^\n",
      "  File \"/home/ksg-dev/anaconda3/envs/llms/lib/python3.11/site-packages/anyio/_backends/_asyncio.py\", line 967, in run\n",
      "    result = context.run(func, *args)\n",
      "             ^^^^^^^^^^^^^^^^^^^^^^^^\n",
      "  File \"/home/ksg-dev/anaconda3/envs/llms/lib/python3.11/site-packages/gradio/utils.py\", line 712, in run_sync_iterator_async\n",
      "    return next(iterator)\n",
      "           ^^^^^^^^^^^^^^\n",
      "  File \"/home/ksg-dev/anaconda3/envs/llms/lib/python3.11/site-packages/gradio/utils.py\", line 873, in gen_wrapper\n",
      "    response = next(iterator)\n",
      "               ^^^^^^^^^^^^^^\n",
      "  File \"/tmp/ipykernel_330011/1525581383.py\", line 11, in chat_gpt\n",
      "    talker_gpt(streamed_response)\n",
      "  File \"/tmp/ipykernel_330011/4111782061.py\", line 2, in talker_gpt\n",
      "    response = openai.audio.speech.create(\n",
      "               ^^^^^^^^^^^^^^^^^^^^^^^^^^^\n",
      "  File \"/home/ksg-dev/anaconda3/envs/llms/lib/python3.11/site-packages/openai/resources/audio/speech.py\", line 102, in create\n",
      "    return self._post(\n",
      "           ^^^^^^^^^^^\n",
      "  File \"/home/ksg-dev/anaconda3/envs/llms/lib/python3.11/site-packages/openai/_base_client.py\", line 1242, in post\n",
      "    return cast(ResponseT, self.request(cast_to, opts, stream=stream, stream_cls=stream_cls))\n",
      "                           ^^^^^^^^^^^^^^^^^^^^^^^^^^^^^^^^^^^^^^^^^^^^^^^^^^^^^^^^^^^^^^^^^\n",
      "  File \"/home/ksg-dev/anaconda3/envs/llms/lib/python3.11/site-packages/openai/_base_client.py\", line 919, in request\n",
      "    return self._request(\n",
      "           ^^^^^^^^^^^^^^\n",
      "  File \"/home/ksg-dev/anaconda3/envs/llms/lib/python3.11/site-packages/openai/_base_client.py\", line 1023, in _request\n",
      "    raise self._make_status_error_from_response(err.response) from None\n",
      "openai.BadRequestError: Error code: 400 - {'error': {'message': \"[{'type': 'string_too_short', 'loc': ('body', 'input'), 'msg': 'String should have at least 1 character', 'input': '', 'ctx': {'min_length': 1}}]\", 'type': 'invalid_request_error', 'param': None, 'code': None}}\n"
     ]
    }
   ],
   "source": [
    "# # More involved Gradio code as we're not using the preset chat interface\n",
    "# # Passing in inbrowser=True in the last line will cause a Gradio window to pop up immediately\n",
    "\n",
    "# with gr.Blocks() as ui:\n",
    "#     with gr.Row():\n",
    "#         chatbot = gr.Chatbot(height=500, type=\"messages\")\n",
    "#     with gr.Row():\n",
    "#         entry = gr.Textbox(label=\"Chat with your Tutor:\")\n",
    "#     with gr.Row():\n",
    "#         clear = gr.Button(\"Clear\")\n",
    "\n",
    "    \n",
    "#     def do_entry(message, history):\n",
    "#         history += [{\"role\": \"user\", \"content\": message}]\n",
    "#         return \"\", history\n",
    "    \n",
    "#     entry.submit(do_entry, inputs=[entry, chatbot], outputs=[entry, chatbot]).then(\n",
    "#         chat_gpt, inputs=chatbot, outputs=[chatbot]\n",
    "#     )\n",
    "#     clear.click(lambda: None, inputs=None, outputs=chatbot, queue=False)\n",
    "\n",
    "# ui.launch()"
   ]
  },
  {
   "cell_type": "code",
   "execution_count": null,
   "id": "75e2d74e",
   "metadata": {},
   "outputs": [],
   "source": []
  }
 ],
 "metadata": {
  "kernelspec": {
   "display_name": "Python 3 (ipykernel)",
   "language": "python",
   "name": "python3"
  },
  "language_info": {
   "codemirror_mode": {
    "name": "ipython",
    "version": 3
   },
   "file_extension": ".py",
   "mimetype": "text/x-python",
   "name": "python",
   "nbconvert_exporter": "python",
   "pygments_lexer": "ipython3",
   "version": "3.11.11"
  }
 },
 "nbformat": 4,
 "nbformat_minor": 5
}
