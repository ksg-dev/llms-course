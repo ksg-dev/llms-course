{
 "cells": [
  {
   "cell_type": "markdown",
   "id": "c0842c13",
   "metadata": {},
   "source": [
    "# Homework Assignment\n",
    "\n",
    "Upgrade Day 1 summary project to summarize webpage using ollama.\n",
    "\n",
    "## Recap on installation of Ollama\n",
    "\n",
    "Once complete, the ollama server should already be running locally.  \n",
    "If you visit:  \n",
    "[http://localhost:11434/](http://localhost:11434/)\n",
    "\n",
    "You should see the message `Ollama is running`.  \n",
    "\n"
   ]
  },
  {
   "cell_type": "markdown",
   "id": "88219334",
   "metadata": {},
   "source": [
    "## Imports"
   ]
  },
  {
   "cell_type": "code",
   "execution_count": 1,
   "id": "2a3a60c9",
   "metadata": {},
   "outputs": [],
   "source": [
    "import requests\n",
    "from bs4 import BeautifulSoup\n",
    "from IPython.display import Markdown, display"
   ]
  },
  {
   "cell_type": "markdown",
   "id": "85b5fb38",
   "metadata": {},
   "source": [
    "## Constants"
   ]
  },
  {
   "cell_type": "code",
   "execution_count": 2,
   "id": "835cf05c",
   "metadata": {},
   "outputs": [],
   "source": [
    "OLLAMA_API = \"http://localhost:11434/api/chat\"\n",
    "HEADERS = {\"Content-Type\": \"application/json\"}\n",
    "MODEL = \"llama3.2\""
   ]
  },
  {
   "cell_type": "markdown",
   "id": "3f68ab75",
   "metadata": {},
   "source": [
    "## Initial Setup"
   ]
  },
  {
   "cell_type": "code",
   "execution_count": 3,
   "id": "7743954e",
   "metadata": {},
   "outputs": [],
   "source": [
    "# Create a message list using same format as OpenAI\n",
    "\n",
    "messages = [\n",
    "    {\n",
    "        \"role\": \"user\",\n",
    "        \"content\": \"Describe some of the business applications of Generative AI\"\n",
    "    }\n",
    "]"
   ]
  },
  {
   "cell_type": "code",
   "execution_count": 4,
   "id": "88721bd2",
   "metadata": {},
   "outputs": [],
   "source": [
    "payload = {\n",
    "    \"model\": MODEL,\n",
    "    \"messages\": messages,\n",
    "    \"stream\": False\n",
    "}"
   ]
  },
  {
   "cell_type": "code",
   "execution_count": 5,
   "id": "af37ae52",
   "metadata": {},
   "outputs": [
    {
     "name": "stdout",
     "output_type": "stream",
     "text": [
      "\u001b[?2026h\u001b[?25l\u001b[1Gpulling manifest ⠋ \u001b[K\u001b[?25h\u001b[?2026l\u001b[?2026h\u001b[?25l\u001b[1Gpulling manifest ⠙ \u001b[K\u001b[?25h\u001b[?2026l\u001b[?2026h\u001b[?25l\u001b[1Gpulling manifest ⠹ \u001b[K\u001b[?25h\u001b[?2026l\u001b[?2026h\u001b[?25l\u001b[1Gpulling manifest ⠸ \u001b[K\u001b[?25h\u001b[?2026l\u001b[?2026h\u001b[?25l\u001b[1Gpulling manifest ⠼ \u001b[K\u001b[?25h\u001b[?2026l\u001b[?2026h\u001b[?25l\u001b[1Gpulling manifest ⠴ \u001b[K\u001b[?25h\u001b[?2026l\u001b[?2026h\u001b[?25l\u001b[1Gpulling manifest \u001b[K\n",
      "pulling dde5aa3fc5ff... 100% ▕████████████████▏ 2.0 GB                         \u001b[K\n",
      "pulling 966de95ca8a6... 100% ▕████████████████▏ 1.4 KB                         \u001b[K\n",
      "pulling fcc5a6bec9da... 100% ▕████████████████▏ 7.7 KB                         \u001b[K\n",
      "pulling a70ff7e570d9... 100% ▕████████████████▏ 6.0 KB                         \u001b[K\n",
      "pulling 56bb8bd477a5... 100% ▕████████████████▏   96 B                         \u001b[K\n",
      "pulling 34bb5ab01051... 100% ▕████████████████▏  561 B                         \u001b[K\n",
      "verifying sha256 digest \u001b[K\n",
      "writing manifest \u001b[K\n",
      "success \u001b[K\u001b[?25h\u001b[?2026l\n"
     ]
    }
   ],
   "source": [
    "# Let's just be sure model is loaded\n",
    "\n",
    "!ollama pull llama3.2"
   ]
  },
  {
   "cell_type": "code",
   "execution_count": 6,
   "id": "fc754604",
   "metadata": {},
   "outputs": [
    {
     "name": "stdout",
     "output_type": "stream",
     "text": [
      "Generative AI has numerous business applications across various industries. Here are some examples:\n",
      "\n",
      "1. **Content Generation**: Generative AI can be used to generate high-quality content such as blog posts, social media posts, product descriptions, and even entire articles. This can save time and resources for content creation teams.\n",
      "2. **Product Design and Development**: Generative AI can aid in designing new products, such as clothing, furniture, or electronics, by generating 3D models and prototypes. It can also help with product development, testing, and optimization.\n",
      "3. **Marketing Automation**: Generative AI can be used to personalize marketing messages and offers for individual customers based on their behavior, preferences, and demographics. This can lead to increased conversion rates and improved customer engagement.\n",
      "4. **Chatbots and Virtual Assistants**: Generative AI can power chatbots and virtual assistants that can understand natural language queries, respond with relevant information, and even engage in conversational dialogue.\n",
      "5. **Image and Video Generation**: Generative AI can generate high-quality images and videos that can be used for various applications such as advertising, marketing, and entertainment.\n",
      "6. **Data Analysis and Insights**: Generative AI can analyze large datasets and identify patterns, trends, and correlations that may not be visible to human analysts. This can lead to data-driven insights and informed business decisions.\n",
      "7. **Predictive Maintenance**: Generative AI can be used to predict equipment failures and maintenance needs in industries such as manufacturing, transportation, and healthcare.\n",
      "8. **Sales Forecasting**: Generative AI can analyze historical sales data, customer behavior, and market trends to forecast future sales and revenue growth.\n",
      "9. **Customer Service**: Generative AI-powered chatbots and virtual assistants can help with customer inquiries, complaints, and feedback, freeing up human customer service agents for more complex issues.\n",
      "10. **Financial Analysis and Risk Management**: Generative AI can analyze financial data and identify potential risks, opportunities, and trends that may not be visible to human analysts.\n",
      "\n",
      "Some notable companies that are leveraging generative AI in their business applications include:\n",
      "\n",
      "* Google (content generation, chatbots)\n",
      "* Amazon (chatbots, product recommendations)\n",
      "* IBM (AI-powered marketing automation)\n",
      "* Microsoft (AI-powered customer service)\n",
      "* Autodesk (generative design for products and infrastructure)\n",
      "\n",
      "These are just a few examples of the many ways that generative AI is being applied in business. As the technology continues to evolve, we can expect to see even more innovative applications across various industries.\n"
     ]
    }
   ],
   "source": [
    "# Now to try\n",
    "\n",
    "response = requests.post(OLLAMA_API, json=payload, headers=HEADERS)\n",
    "print(response.json()['message']['content'])"
   ]
  },
  {
   "cell_type": "markdown",
   "id": "d9224e2e",
   "metadata": {},
   "source": [
    "## The Ollama Package\n",
    "\n",
    "We'll do same thing but using ollama python package instead of direct HTTP call"
   ]
  },
  {
   "cell_type": "code",
   "execution_count": 7,
   "id": "aa65acf9",
   "metadata": {},
   "outputs": [],
   "source": [
    "import ollama"
   ]
  },
  {
   "cell_type": "code",
   "execution_count": 8,
   "id": "201c5394",
   "metadata": {},
   "outputs": [
    {
     "name": "stdout",
     "output_type": "stream",
     "text": [
      "Generative AI has numerous business applications across various industries. Here are some examples:\n",
      "\n",
      "1. **Content Generation**: Generative AI can be used to generate high-quality content such as articles, social media posts, and product descriptions. This can help businesses reduce the time and cost associated with content creation.\n",
      "2. **Product Design and Development**: Generative AI can be used to design new products, such as furniture, electronics, or fashion items. It can also be used to generate 3D models, prototypes, and even entire product lines.\n",
      "3. **Image and Video Generation**: Generative AI can be used to create realistic images and videos that can be used for advertising, marketing, and other purposes. This can help businesses create engaging visual content without the need for expensive photography or video production.\n",
      "4. **Music and Audio Generation**: Generative AI can be used to create original music, sound effects, and audio tracks. This can be useful for businesses that need custom music for their ads, videos, or other media.\n",
      "5. **Chatbots and Virtual Assistants**: Generative AI can be used to create more advanced chatbots and virtual assistants that can engage with customers and provide personalized support.\n",
      "6. **Marketing Automation**: Generative AI can be used to automate marketing processes such as email marketing, social media posting, and lead generation.\n",
      "7. **Predictive Analytics**: Generative AI can be used to analyze large datasets and make predictions about future trends and customer behavior.\n",
      "8. **Business Writing Assistance**: Generative AI can be used to assist with business writing tasks such as proofreading, editing, and suggesting alternative phrases or sentences.\n",
      "9. **Customer Service Chatbots**: Generative AI can be used to create more advanced customer service chatbots that can handle complex queries and provide personalized support.\n",
      "10. **Sales Enablement**: Generative AI can be used to generate sales materials such as product descriptions, case studies, and presentations.\n",
      "\n",
      "Some of the industries that are likely to benefit from Generative AI include:\n",
      "\n",
      "1. **Marketing and Advertising**: Generative AI can help businesses create more engaging content and automate marketing processes.\n",
      "2. **Content Creation**: Generative AI can help businesses reduce the time and cost associated with content creation.\n",
      "3. **E-commerce**: Generative AI can help businesses generate product descriptions, reviews, and other content that can enhance the customer experience.\n",
      "4. **Financial Services**: Generative AI can be used to analyze large datasets and make predictions about future trends and customer behavior.\n",
      "5. **Healthcare**: Generative AI can be used to analyze medical images, diagnose diseases, and develop personalized treatment plans.\n",
      "\n",
      "Overall, Generative AI has the potential to transform many business processes and improve efficiency, productivity, and customer satisfaction.\n"
     ]
    }
   ],
   "source": [
    "response = ollama.chat(model=MODEL, messages=messages)\n",
    "print(response['message']['content'])"
   ]
  },
  {
   "cell_type": "markdown",
   "id": "37b2f078",
   "metadata": {},
   "source": [
    "## Now for the Webpage Summarizer"
   ]
  },
  {
   "cell_type": "markdown",
   "id": "608360b5",
   "metadata": {},
   "source": [
    "### Create Webpage Scraper Class"
   ]
  },
  {
   "cell_type": "code",
   "execution_count": 9,
   "id": "ce351346",
   "metadata": {},
   "outputs": [],
   "source": [
    "# Class to represent webpage\n",
    "\n",
    "# Some websites need you to use proper headers when fetching them\n",
    "headers = {\n",
    "    \"User-Agent\": \"Mozilla/5.0 (Windows NT 10.0; Win64; x64) AppleWebKit/537.36 (KHTML, like Gecko) Chrome/117.0.0.0 Safari/537.36\"\n",
    "}\n",
    "\n",
    "class Website:\n",
    "\n",
    "    def __init__(self, url):\n",
    "        \"\"\"Create this Website object from given url using bs4\"\"\"\n",
    "        self.url = url\n",
    "        response = requests.get(url, headers=headers)\n",
    "        soup = BeautifulSoup(response.content, 'html.parser')\n",
    "        self.title = soup.title.string if soup.title else \"No title found\"\n",
    "        for irrelevant in soup.body([\"script\", \"style\", \"img\", \"input\"]):\n",
    "            irrelevant.decompose()\n",
    "        self.text = soup.body.get_text(separator=\"\\n\", strip=True)"
   ]
  },
  {
   "cell_type": "markdown",
   "id": "cf0a3475",
   "metadata": {},
   "source": [
    "### System Prompt"
   ]
  },
  {
   "cell_type": "code",
   "execution_count": 10,
   "id": "22e1ef82",
   "metadata": {},
   "outputs": [],
   "source": [
    "# Define system prompt\n",
    "\n",
    "system_prompt = \"You are an assistant that analyzes the contents of a website \" \\\n",
    "\"and provides a short summary, ignoring text that might be navigation-related. \" \\\n",
    "\"Respond in markdown.\""
   ]
  },
  {
   "cell_type": "markdown",
   "id": "892b6d76",
   "metadata": {},
   "source": [
    "### User Prompt Function"
   ]
  },
  {
   "cell_type": "code",
   "execution_count": 11,
   "id": "a9446597",
   "metadata": {},
   "outputs": [],
   "source": [
    "# A function that writes a User Prompt that asks for summaries of websites\n",
    "\n",
    "def user_prompt_for(website):\n",
    "    user_prompt = f\"You are looking at a website titled {website.title}\"\n",
    "    user_prompt += \"\\nThe contents of this website are as follows: \"\n",
    "    \"please provide a short summary of this website in markdown.\"\n",
    "    \"If it includes news or announcements, summarize these too.\\n\\n\"\n",
    "    user_prompt += website.text\n",
    "    return user_prompt"
   ]
  },
  {
   "cell_type": "markdown",
   "id": "4807dfee",
   "metadata": {},
   "source": [
    "### Messages Function"
   ]
  },
  {
   "cell_type": "code",
   "execution_count": 12,
   "id": "ffeada89",
   "metadata": {},
   "outputs": [],
   "source": [
    "# Function to create and format messages param\n",
    "\n",
    "def messages_for(website):\n",
    "    return [\n",
    "        {\n",
    "            \"role\": \"system\",\n",
    "            \"content\": system_prompt\n",
    "        },\n",
    "        {\n",
    "            \"role\": \"user\",\n",
    "            \"content\": user_prompt_for(website)\n",
    "        }\n",
    "    ]"
   ]
  },
  {
   "cell_type": "markdown",
   "id": "6e1418ac",
   "metadata": {},
   "source": [
    "### Summarize Function"
   ]
  },
  {
   "cell_type": "code",
   "execution_count": 13,
   "id": "7fc8442f",
   "metadata": {},
   "outputs": [],
   "source": [
    "# Now call ollama api\n",
    "\n",
    "def summarize(url):\n",
    "    website = Website(url)\n",
    "    response = ollama.chat(\n",
    "        model=MODEL,\n",
    "        messages=messages_for(website)\n",
    "    )\n",
    "    return response['message']['content']"
   ]
  },
  {
   "cell_type": "markdown",
   "id": "15484258",
   "metadata": {},
   "source": [
    "### Display Format Function"
   ]
  },
  {
   "cell_type": "code",
   "execution_count": 14,
   "id": "8775882e",
   "metadata": {},
   "outputs": [],
   "source": [
    "# Display format function\n",
    "\n",
    "def display_summary(url):\n",
    "    summary = summarize(url)\n",
    "    display(Markdown(summary))"
   ]
  },
  {
   "cell_type": "markdown",
   "id": "a82a88d2",
   "metadata": {},
   "source": [
    "## Testing Functions"
   ]
  },
  {
   "cell_type": "markdown",
   "id": "271fba69",
   "metadata": {},
   "source": [
    "Wanted all functions for setup all together with no interruption"
   ]
  },
  {
   "cell_type": "code",
   "execution_count": 15,
   "id": "5cda0f13",
   "metadata": {},
   "outputs": [
    {
     "data": {
      "text/plain": [
       "'**Summary**\\nThis website belongs to Edward Donner, the co-founder and CTO of Nebula.io. The site appears to be a personal blog or portfolio, showcasing his work in AI and talent management. It includes sections on \"About\", \"Posts\" (which seem to be resources for learning about AI and LLMs), and a newsletter sign-up.\\n\\n**Key Points**\\n\\n* Edward Donner is the co-founder and CTO of Nebula.io, which applies AI to help people discover their potential.\\n* He has experience as the founder and CEO of another AI startup, untapt, which was acquired in 2021.\\n* The website includes resources for learning about AI and LLMs, such as workshops and tutorials.'"
      ]
     },
     "execution_count": 15,
     "metadata": {},
     "output_type": "execute_result"
    }
   ],
   "source": [
    "# Test summarize\n",
    "\n",
    "summarize(\"https://edwarddonner.com\")"
   ]
  },
  {
   "cell_type": "code",
   "execution_count": 16,
   "id": "a5acc83f",
   "metadata": {},
   "outputs": [
    {
     "data": {
      "text/markdown": [
       "# Summary of Edward Donner's Website\n",
       "\n",
       "## Overview\n",
       "\n",
       "This website appears to be the personal blog or portfolio of Edward Donner, a technologist and entrepreneur with experience in AI development and deployment. The site showcases his work on various projects and initiatives related to artificial intelligence.\n",
       "\n",
       "## Key Takeaways\n",
       "\n",
       "* Edward Donner is the co-founder and CTO of Nebula.io, an AI company working to help people discover their potential.\n",
       "* He has previously founded and led AI startups, including untapt, which was acquired in 2021.\n",
       "* The website features articles about LLMs (Large Language Models), AI engineering, and related topics.\n",
       "* There are resources available for developers interested in mastering AI and LLMs.\n",
       "\n",
       "## Notable Links\n",
       "\n",
       "* **Connect Four**: A game that pits LLMs against each other in a battle of diplomacy and deviousness\n",
       "* **About**: Edward Donner's introduction, including his interests and experience\n",
       "* **Newsletter**: Subscription link to receive updates from the website author"
      ],
      "text/plain": [
       "<IPython.core.display.Markdown object>"
      ]
     },
     "metadata": {},
     "output_type": "display_data"
    }
   ],
   "source": [
    "# Test display function\n",
    "display_summary(\"https://edwarddonner.com\")"
   ]
  },
  {
   "cell_type": "code",
   "execution_count": 17,
   "id": "c26ceb50",
   "metadata": {},
   "outputs": [
    {
     "data": {
      "text/markdown": [
       "There are several interesting articles and topics on CNN's website today, but I'll highlight a few:\n",
       "\n",
       "1. **Deadly earthquake strikes Myanmar, Thailand, and China**: A powerful earthquake has struck the border region of Myanmar, Thailand, and China, causing widespread destruction and loss of life.\n",
       "2. **Val Kilmer recently gave us ‘Batman’ one last time**: Val Kilmer, who played Batman in the 1995 film \"Batman Forever,\" recently reprised his role in a new documentary about the character's history.\n",
       "3. **Lawyer for Trump co-defendant and alleged US Capitol rioters picked for major role at DOJ**: A lawyer who represented several individuals involved in the January 6th US Capitol riot has been appointed to a key position at the Department of Justice.\n",
       "4. **A lead crisis in schools led a city to reach out to CDC for help**: A city is seeking assistance from the Centers for Disease Control and Prevention (CDC) due to a lead contamination crisis in its schools, which may have affected hundreds of children.\n",
       "\n",
       "These are just a few examples of the many interesting articles and topics on CNN's website today."
      ],
      "text/plain": [
       "<IPython.core.display.Markdown object>"
      ]
     },
     "metadata": {},
     "output_type": "display_data"
    }
   ],
   "source": [
    "display_summary(\"https://cnn.com\")"
   ]
  },
  {
   "cell_type": "code",
   "execution_count": null,
   "id": "a8748a85",
   "metadata": {},
   "outputs": [],
   "source": []
  }
 ],
 "metadata": {
  "kernelspec": {
   "display_name": "Python 3 (ipykernel)",
   "language": "python",
   "name": "python3"
  },
  "language_info": {
   "codemirror_mode": {
    "name": "ipython",
    "version": 3
   },
   "file_extension": ".py",
   "mimetype": "text/x-python",
   "name": "python",
   "nbconvert_exporter": "python",
   "pygments_lexer": "ipython3",
   "version": "3.11.11"
  }
 },
 "nbformat": 4,
 "nbformat_minor": 5
}
