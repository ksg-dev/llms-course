{
 "cells": [
  {
   "cell_type": "markdown",
   "id": "2825c3e5",
   "metadata": {},
   "source": [
    "## Imports"
   ]
  },
  {
   "cell_type": "code",
   "execution_count": 1,
   "id": "e04a2683",
   "metadata": {},
   "outputs": [],
   "source": [
    "# imports\n",
    "\n",
    "import os\n",
    "import requests\n",
    "from dotenv import load_dotenv\n",
    "from bs4 import BeautifulSoup\n",
    "from IPython.display import Markdown, display\n",
    "from openai import OpenAI\n",
    "\n",
    "# If you get an error running this cell, then please head over to the troubleshooting notebook!"
   ]
  },
  {
   "cell_type": "markdown",
   "id": "6a4414d8",
   "metadata": {},
   "source": [
    "## OpenAI Initial Setup"
   ]
  },
  {
   "cell_type": "code",
   "execution_count": 2,
   "id": "a82b905a",
   "metadata": {},
   "outputs": [
    {
     "name": "stdout",
     "output_type": "stream",
     "text": [
      "API key found and looks good so far!\n"
     ]
    }
   ],
   "source": [
    "# Load environment variables from env\n",
    "\n",
    "load_dotenv(override=True)\n",
    "api_key = os.getenv('OPENAI_API_KEY')\n",
    "\n",
    "# Check key\n",
    "if not api_key:\n",
    "    print(\"No API Key found.\")\n",
    "elif not api_key.startswith(\"sk-proj-\"):\n",
    "    print(\"An API key was found, but it doesn't start with sk-proj-;\")\n",
    "elif api_key.strip() != api_key:\n",
    "    print(\"An API key was found, but was a space or tab.\")\n",
    "else:\n",
    "    print(\"API key found and looks good so far!\")"
   ]
  },
  {
   "cell_type": "code",
   "execution_count": 3,
   "id": "76523b74",
   "metadata": {},
   "outputs": [],
   "source": [
    "# create openai object\n",
    "openai = OpenAI()"
   ]
  },
  {
   "cell_type": "markdown",
   "id": "a0c0b23e",
   "metadata": {},
   "source": [
    "### Call to a Frontier model as preview/test"
   ]
  },
  {
   "cell_type": "code",
   "execution_count": 4,
   "id": "14fa6b1d",
   "metadata": {},
   "outputs": [
    {
     "name": "stdout",
     "output_type": "stream",
     "text": [
      "Hello! It's great to hear from you! How can I assist you today?\n"
     ]
    }
   ],
   "source": [
    "message = \"Hello, GPT! This is my first ever message to you. Hi!\"\n",
    "response = openai.chat.completions.create(\n",
    "    model=\"gpt-4o-mini\",\n",
    "    messages=[\n",
    "        {\n",
    "            \"role\": \"user\",\n",
    "            \"content\": message\n",
    "        }\n",
    "    ]\n",
    ")\n",
    "\n",
    "print(response.choices[0].message.content)"
   ]
  },
  {
   "cell_type": "markdown",
   "id": "52e35fbb",
   "metadata": {},
   "source": [
    "## First Project: Webpage Summarizer"
   ]
  },
  {
   "cell_type": "markdown",
   "id": "5ea374d1",
   "metadata": {},
   "source": [
    "### Webpage Scraper Class"
   ]
  },
  {
   "cell_type": "code",
   "execution_count": 6,
   "id": "7c0ebb6e",
   "metadata": {},
   "outputs": [],
   "source": [
    "# A Class to represent a webpage\n",
    "\n",
    "# Some websites need you to use proper headers when fetching them\n",
    "headers = {\n",
    "    \"User-Agent\": \"Mozilla/5.0 (Windows NT 10.0; Win64; x64) AppleWebKit/537.36 (KHTML, like Gecko) Chrome/117.0.0.0 Safari/537.36\"\n",
    "}\n",
    "\n",
    "class Website:\n",
    "\n",
    "    def __init__(self, url):\n",
    "        \"\"\"\n",
    "        Create this Website object from the given url using bs4\n",
    "        \"\"\"\n",
    "        self.url = url\n",
    "        response = requests.get(url, headers=headers)\n",
    "        soup = BeautifulSoup(response.content, 'html.parser')\n",
    "        self.title = soup.title.string if soup.title else \"No title found\"\n",
    "        for irrelevant in soup.body([\"script\", \"style\", \"img\", \"input\"]):\n",
    "            irrelevant.decompose()\n",
    "        self.text = soup.body.get_text(separator=\"\\n\", strip=True)"
   ]
  },
  {
   "cell_type": "code",
   "execution_count": 7,
   "id": "5cd6ff7d",
   "metadata": {},
   "outputs": [
    {
     "name": "stdout",
     "output_type": "stream",
     "text": [
      "Home - Edward Donner\n",
      "Home\n",
      "Connect Four\n",
      "Outsmart\n",
      "An arena that pits LLMs against each other in a battle of diplomacy and deviousness\n",
      "About\n",
      "Posts\n",
      "Well, hi there.\n",
      "I’m Ed. I like writing code and experimenting with LLMs, and hopefully you’re here because you do too. I also enjoy DJing (but I’m badly out of practice), amateur electronic music production (\n",
      "very\n",
      "amateur) and losing myself in\n",
      "Hacker News\n",
      ", nodding my head sagely to things I only half understand.\n",
      "I’m the co-founder and CTO of\n",
      "Nebula.io\n",
      ". We’re applying AI to a field where it can make a massive, positive impact: helping people discover their potential and pursue their reason for being. Recruiters use our product today to source, understand, engage and manage talent. I’m previously the founder and CEO of AI startup untapt,\n",
      "acquired in 2021\n",
      ".\n",
      "We work with groundbreaking, proprietary LLMs verticalized for talent, we’ve\n",
      "patented\n",
      "our matching model, and our award-winning platform has happy customers and tons of press coverage.\n",
      "Connect\n",
      "with me for more!\n",
      "January 23, 2025\n",
      "LLM Workshop – Hands-on with Agents – resources\n",
      "December 21, 2024\n",
      "Welcome, SuperDataScientists!\n",
      "November 13, 2024\n",
      "Mastering AI and LLM Engineering – Resources\n",
      "October 16, 2024\n",
      "From Software Engineer to AI Data Scientist – resources\n",
      "Navigation\n",
      "Home\n",
      "Connect Four\n",
      "Outsmart\n",
      "An arena that pits LLMs against each other in a battle of diplomacy and deviousness\n",
      "About\n",
      "Posts\n",
      "Get in touch\n",
      "ed [at] edwarddonner [dot] com\n",
      "www.edwarddonner.com\n",
      "Follow me\n",
      "LinkedIn\n",
      "Twitter\n",
      "Facebook\n",
      "Subscribe to newsletter\n",
      "Type your email…\n",
      "Subscribe\n"
     ]
    }
   ],
   "source": [
    "# Now to try fetching a website\n",
    "ed = Website(\"https://edwarddonner.com\")\n",
    "print(ed.title)\n",
    "print(ed.text)"
   ]
  },
  {
   "cell_type": "markdown",
   "id": "cfdbcfcf",
   "metadata": {},
   "source": [
    "### Types of Prompts\n",
    "\n",
    "- **system prompt** tells them what task they are performing and what tone they should use\n",
    "\n",
    "- **user prompt** the conversation starter that they reply to"
   ]
  },
  {
   "cell_type": "markdown",
   "id": "35d9a472",
   "metadata": {},
   "source": [
    "### System Prompt"
   ]
  },
  {
   "cell_type": "code",
   "execution_count": 18,
   "id": "7096471c",
   "metadata": {},
   "outputs": [],
   "source": [
    "# Define system prompt - can experiment with this\n",
    "\n",
    "system_prompt = \"You are an assistant that analyzes the contents of a website \\\n",
    "and provides a short summary, ignoring text that might be navigation-related. \\\n",
    "Respond in markdown.\""
   ]
  },
  {
   "cell_type": "markdown",
   "id": "51c5227b",
   "metadata": {},
   "source": [
    "### User Prompt from Function"
   ]
  },
  {
   "cell_type": "code",
   "execution_count": 19,
   "id": "f339b600",
   "metadata": {},
   "outputs": [],
   "source": [
    "# A funtion that writes a User Prompt that asks for summaries of websites:\n",
    "\n",
    "def user_prompt_for(website):\n",
    "    user_prompt = f\"You are looking at a website titled {website.title}\"\n",
    "    user_prompt += \"\\nThe contents of this website are as follows: \\\n",
    "please provide a short summary of this website in markdown. \\\n",
    "If it includes news or announcements, then summarize these too.\\n\\n\"\n",
    "    user_prompt += website.text\n",
    "    return user_prompt"
   ]
  },
  {
   "cell_type": "code",
   "execution_count": 20,
   "id": "03b4a402",
   "metadata": {},
   "outputs": [
    {
     "data": {
      "text/plain": [
       "'You are an assistant that analyzes the contents of a website and provides a short summary, ignoring text that might be navigation-related. Respond in markdown.'"
      ]
     },
     "execution_count": 20,
     "metadata": {},
     "output_type": "execute_result"
    }
   ],
   "source": [
    "system_prompt"
   ]
  },
  {
   "cell_type": "code",
   "execution_count": 21,
   "id": "f92250cc",
   "metadata": {},
   "outputs": [
    {
     "name": "stdout",
     "output_type": "stream",
     "text": [
      "You are looking at a website titled Home - Edward Donner\n",
      "The contents of this website are as follows: please provide a short summary of this website in markdown. If it includes news or announcements, then summarize these too.\n",
      "\n",
      "Home\n",
      "Connect Four\n",
      "Outsmart\n",
      "An arena that pits LLMs against each other in a battle of diplomacy and deviousness\n",
      "About\n",
      "Posts\n",
      "Well, hi there.\n",
      "I’m Ed. I like writing code and experimenting with LLMs, and hopefully you’re here because you do too. I also enjoy DJing (but I’m badly out of practice), amateur electronic music production (\n",
      "very\n",
      "amateur) and losing myself in\n",
      "Hacker News\n",
      ", nodding my head sagely to things I only half understand.\n",
      "I’m the co-founder and CTO of\n",
      "Nebula.io\n",
      ". We’re applying AI to a field where it can make a massive, positive impact: helping people discover their potential and pursue their reason for being. Recruiters use our product today to source, understand, engage and manage talent. I’m previously the founder and CEO of AI startup untapt,\n",
      "acquired in 2021\n",
      ".\n",
      "We work with groundbreaking, proprietary LLMs verticalized for talent, we’ve\n",
      "patented\n",
      "our matching model, and our award-winning platform has happy customers and tons of press coverage.\n",
      "Connect\n",
      "with me for more!\n",
      "January 23, 2025\n",
      "LLM Workshop – Hands-on with Agents – resources\n",
      "December 21, 2024\n",
      "Welcome, SuperDataScientists!\n",
      "November 13, 2024\n",
      "Mastering AI and LLM Engineering – Resources\n",
      "October 16, 2024\n",
      "From Software Engineer to AI Data Scientist – resources\n",
      "Navigation\n",
      "Home\n",
      "Connect Four\n",
      "Outsmart\n",
      "An arena that pits LLMs against each other in a battle of diplomacy and deviousness\n",
      "About\n",
      "Posts\n",
      "Get in touch\n",
      "ed [at] edwarddonner [dot] com\n",
      "www.edwarddonner.com\n",
      "Follow me\n",
      "LinkedIn\n",
      "Twitter\n",
      "Facebook\n",
      "Subscribe to newsletter\n",
      "Type your email…\n",
      "Subscribe\n"
     ]
    }
   ],
   "source": [
    "print(user_prompt_for(ed))"
   ]
  },
  {
   "cell_type": "markdown",
   "id": "9501b6af",
   "metadata": {},
   "source": [
    "## Messages\n",
    "\n",
    "\n",
    "```\n",
    "[\n",
    "    {\n",
    "        \"role\": \"system\",\n",
    "        \"content\": \"system message goes here\"\n",
    "    },\n",
    "    {\n",
    "        \"role\": \"user\",\n",
    "        \"content\": \"user meesage goes here\"\n",
    "    }\n",
    "]\n",
    "```\n"
   ]
  },
  {
   "cell_type": "markdown",
   "id": "24b27b3d",
   "metadata": {},
   "source": [
    "### Passing both messages"
   ]
  },
  {
   "cell_type": "code",
   "execution_count": 22,
   "id": "80e4cad3",
   "metadata": {},
   "outputs": [],
   "source": [
    "messages = [\n",
    "    {\n",
    "        \"role\": \"system\",\n",
    "        \"content\": \"You are a snarky assistant\"\n",
    "    },\n",
    "    {\n",
    "        \"role\": \"user\",\n",
    "        \"content\": \"What is 2 + 2?\"\n",
    "    }\n",
    "]"
   ]
  },
  {
   "cell_type": "code",
   "execution_count": 23,
   "id": "04495117",
   "metadata": {},
   "outputs": [
    {
     "name": "stdout",
     "output_type": "stream",
     "text": [
      "Oh, we're starting with the easy ones, huh? Well, 2 + 2 equals 4. Shocking, I know!\n"
     ]
    }
   ],
   "source": [
    "# To preview calling w system and user message/prompts\n",
    "\n",
    "response = openai.chat.completions.create(model=\"gpt-4o-mini\", messages=messages)\n",
    "print(response.choices[0].message.content)"
   ]
  },
  {
   "cell_type": "markdown",
   "id": "9fcadc7b",
   "metadata": {},
   "source": [
    "### Build useful messages using function"
   ]
  },
  {
   "cell_type": "code",
   "execution_count": 24,
   "id": "959b9c77",
   "metadata": {},
   "outputs": [],
   "source": [
    "# See how this funtion creates the exact format above\n",
    "\n",
    "def messages_for(website):\n",
    "    return [\n",
    "        {\n",
    "            \"role\": \"system\",\n",
    "            \"content\": system_prompt\n",
    "        },\n",
    "        {\n",
    "            \"role\": \"user\",\n",
    "            \"content\": user_prompt_for(website)\n",
    "        }\n",
    "    ]"
   ]
  },
  {
   "cell_type": "code",
   "execution_count": 25,
   "id": "792d49ce",
   "metadata": {},
   "outputs": [
    {
     "data": {
      "text/plain": [
       "[{'role': 'system',\n",
       "  'content': 'You are an assistant that analyzes the contents of a website and provides a short summary, ignoring text that might be navigation-related. Respond in markdown.'},\n",
       " {'role': 'user',\n",
       "  'content': 'You are looking at a website titled Home - Edward Donner\\nThe contents of this website are as follows: please provide a short summary of this website in markdown. If it includes news or announcements, then summarize these too.\\n\\nHome\\nConnect Four\\nOutsmart\\nAn arena that pits LLMs against each other in a battle of diplomacy and deviousness\\nAbout\\nPosts\\nWell, hi there.\\nI’m Ed. I like writing code and experimenting with LLMs, and hopefully you’re here because you do too. I also enjoy DJing (but I’m badly out of practice), amateur electronic music production (\\nvery\\namateur) and losing myself in\\nHacker News\\n, nodding my head sagely to things I only half understand.\\nI’m the co-founder and CTO of\\nNebula.io\\n. We’re applying AI to a field where it can make a massive, positive impact: helping people discover their potential and pursue their reason for being. Recruiters use our product today to source, understand, engage and manage talent. I’m previously the founder and CEO of AI startup untapt,\\nacquired in 2021\\n.\\nWe work with groundbreaking, proprietary LLMs verticalized for talent, we’ve\\npatented\\nour matching model, and our award-winning platform has happy customers and tons of press coverage.\\nConnect\\nwith me for more!\\nJanuary 23, 2025\\nLLM Workshop – Hands-on with Agents – resources\\nDecember 21, 2024\\nWelcome, SuperDataScientists!\\nNovember 13, 2024\\nMastering AI and LLM Engineering – Resources\\nOctober 16, 2024\\nFrom Software Engineer to AI Data Scientist – resources\\nNavigation\\nHome\\nConnect Four\\nOutsmart\\nAn arena that pits LLMs against each other in a battle of diplomacy and deviousness\\nAbout\\nPosts\\nGet in touch\\ned [at] edwarddonner [dot] com\\nwww.edwarddonner.com\\nFollow me\\nLinkedIn\\nTwitter\\nFacebook\\nSubscribe to newsletter\\nType your email…\\nSubscribe'}]"
      ]
     },
     "execution_count": 25,
     "metadata": {},
     "output_type": "execute_result"
    }
   ],
   "source": [
    "# Test out with ed website\n",
    "\n",
    "messages_for(ed)"
   ]
  },
  {
   "cell_type": "markdown",
   "id": "be0551b5",
   "metadata": {},
   "source": [
    "## Bring it Together"
   ]
  },
  {
   "cell_type": "markdown",
   "id": "f9e0dfbd",
   "metadata": {},
   "source": [
    "### Summarize Function"
   ]
  },
  {
   "cell_type": "code",
   "execution_count": 26,
   "id": "733cf3a2",
   "metadata": {},
   "outputs": [],
   "source": [
    "# And now: call the OpenAI API\n",
    "\n",
    "def summarize(url):\n",
    "    website = Website(url)\n",
    "    response = openai.chat.completions.create(\n",
    "        model = \"gpt-4o-mini\",\n",
    "        messages = messages_for(website)\n",
    "    )\n",
    "    return response.choices[0].message.content"
   ]
  },
  {
   "cell_type": "code",
   "execution_count": 27,
   "id": "05e49c61",
   "metadata": {},
   "outputs": [
    {
     "data": {
      "text/plain": [
       "'# Summary of the Edward Donner Website\\n\\nThe website is a personal space for Ed Donner, who is passionate about coding and experimenting with large language models (LLMs). He shares insights about his professional journey, which includes being the co-founder and CTO of Nebula.io, a company focused on applying AI to enhance talent discovery and management. Ed also has a background as the founder and CEO of an AI startup, untapt, which was acquired in 2021.\\n\\n## Recent Announcements\\n- **January 23, 2025**: Resources for the \"LLM Workshop – Hands-on with Agents\" were shared.\\n- **December 21, 2024**: A welcome message was posted for new visitors, dubbed \"SuperDataScientists\".\\n- **November 13, 2024**: Resources for \"Mastering AI and LLM Engineering\" were made available.\\n- **October 16, 2024**: Resources related to transitioning \"From Software Engineer to AI Data Scientist\" were released.\\n\\nIn addition to LLM exploration, Ed enjoys DJing and electronic music production, and he actively engages with communities like Hacker News.'"
      ]
     },
     "execution_count": 27,
     "metadata": {},
     "output_type": "execute_result"
    }
   ],
   "source": [
    "summarize(\"https://edwarddonner.com\")"
   ]
  },
  {
   "cell_type": "markdown",
   "id": "22b5027e",
   "metadata": {},
   "source": [
    "### Display Format Function"
   ]
  },
  {
   "cell_type": "code",
   "execution_count": 28,
   "id": "3920a5c8",
   "metadata": {},
   "outputs": [],
   "source": [
    "def display_summary(url):\n",
    "    summary = summarize(url)\n",
    "    display(Markdown(summary))"
   ]
  },
  {
   "cell_type": "code",
   "execution_count": 29,
   "id": "df44ead8",
   "metadata": {},
   "outputs": [
    {
     "data": {
      "text/markdown": [
       "# Summary of Edward Donner's Website\n",
       "\n",
       "Edward Donner's website serves as a personal and professional platform outlining his interests and endeavors in programming, AI, and electronic music production. He is the co-founder and CTO of Nebula.io, a company focused on applying AI to enhance talent discovery and management. The site highlights his previous work as the founder and CEO of the AI startup untapt, which was acquired in 2021.\n",
       "\n",
       "## Recent News and Announcements\n",
       "- **January 23, 2025**: Post about an LLM Workshop titled \"Hands-on with Agents\" with resources available.\n",
       "- **December 21, 2024**: Welcoming message aimed at \"SuperDataScientists.\"\n",
       "- **November 13, 2024**: Announcement of \"Mastering AI and LLM Engineering\" resources.\n",
       "- **October 16, 2024**: Resources shared for transitioning from Software Engineer to AI Data Scientist. \n",
       "\n",
       "Overall, the website connects with individuals interested in AI and software engineering while providing resources and insights from his experiences in the tech industry."
      ],
      "text/plain": [
       "<IPython.core.display.Markdown object>"
      ]
     },
     "metadata": {},
     "output_type": "display_data"
    }
   ],
   "source": [
    "display_summary(\"https://edwarddonner.com\")"
   ]
  },
  {
   "cell_type": "markdown",
   "id": "fdcb8fd0",
   "metadata": {},
   "source": [
    "### Summarize More Websites"
   ]
  },
  {
   "cell_type": "code",
   "execution_count": 30,
   "id": "bc74db93",
   "metadata": {},
   "outputs": [
    {
     "data": {
      "text/markdown": [
       "# CNN Overview\n",
       "\n",
       "CNN is a major news outlet providing comprehensive coverage of global and national events. The website features various sections including:\n",
       "\n",
       "- **Breaking News**: Real-time updates on important occurrences such as the Ukraine-Russia war and the Israel-Hamas conflict.\n",
       "- **Politics**: Coverage of significant political events, including updates on the Trump administration and contentious issues like tariffs and immigration policies.\n",
       "- **Business and Economy**: Reports on market activities and economic trends, including major drops in stock indices and corporate financial news.\n",
       "- **Health**: Articles addressing public health concerns like vaccination rates and healthcare system challenges.\n",
       "- **Entertainment and Lifestyle**: Updates on celebrity news, cultural trends, and lifestyle content.\n",
       "- **Science and Technology**: Insights into scientific discoveries, technological advancements, and space exploration.\n",
       "\n",
       "### Recent Highlights:\n",
       "- Major stock market decline following trade tensions with China.\n",
       "- Charge against UK comedian Russell Brand for sexual assault.\n",
       "- Discussions surrounding the impacts of Trump's administration on the economy.\n",
       "- Concerns over healthcare policies impacting senior citizens and increasing deportation rates.\n",
       "\n",
       "### Featured Articles:\n",
       "- **Analysis of Economic Policies**: Discussions on the ramifications of Trump's tariffs and their effects on American consumers and the global market.\n",
       "- **Weather Reports**: Severe weather warnings for central US states, predicting significant flooding.\n",
       "- **Health Warnings**: Reports on the declining vaccination rates for measles, raising alarms among health officials.\n",
       "\n",
       "This summary encapsulates the diverse content CNN offers, providing readers with a window into current events across various sectors."
      ],
      "text/plain": [
       "<IPython.core.display.Markdown object>"
      ]
     },
     "metadata": {},
     "output_type": "display_data"
    }
   ],
   "source": [
    "display_summary(\"https://cnn.com\")"
   ]
  },
  {
   "cell_type": "code",
   "execution_count": 31,
   "id": "63332c4c",
   "metadata": {},
   "outputs": [
    {
     "data": {
      "text/markdown": [
       "# Summary of \"Just a moment...\"\n",
       "\n",
       "The website prompts users to enable JavaScript and cookies to access its content. There are no specific news or announcements provided on the page."
      ],
      "text/plain": [
       "<IPython.core.display.Markdown object>"
      ]
     },
     "metadata": {},
     "output_type": "display_data"
    }
   ],
   "source": [
    "display_summary(\"https://anthropic.com\")"
   ]
  },
  {
   "cell_type": "markdown",
   "id": "d0aec0cc",
   "metadata": {},
   "source": [
    "## Try Yourself"
   ]
  },
  {
   "cell_type": "markdown",
   "id": "21af1921",
   "metadata": {},
   "source": [
    "### Email Subject Line\n",
    "\n",
    "Write something that will take the contents of an email, and will suggest an approprite short subject line for the email"
   ]
  },
  {
   "cell_type": "code",
   "execution_count": 32,
   "id": "ad3e561c",
   "metadata": {},
   "outputs": [],
   "source": [
    "# Just going to create some misc email samples\n",
    "\n",
    "order_question = \"Thank you for your purchase! \\nHi Susan, we're getting your order ready to be shipped. \" \\\n",
    "\"We will notify you when it has been sent. \\nOrder Summary\\nOrder 8675309\\nArduino Starter Kit x 1\"\n",
    "\n",
    "\n",
    "course_info = \"Hello! It's Angela here, your instructor on the 100 Days of Python course. \" \\\n",
    "\"I have something really exciting to show you. For this entire year, I've been hard at work \" \\\n",
    "\"creating the most interactive programming course in the world. And thanks to the new \" \\\n",
    "\"features on Auditorium, I'm getting closer to my vision of creating fully immersive courses \" \\\n",
    "\"that are all about learning through doing. \\nAnd as an existing user of Auditorium, you get to \" \\\n",
    "\"have early access to this incredible course - Learn Javascript in 1 Month. \\nWith over 30 hours \" \\\n",
    "\"of interactive content, you'll feel more like you're playing a puzzle game than learning a \" \\\n",
    "\"programming language. There are over 200 coding exercises, 20+ quizzes, 15+ code visualisations, \" \\\n",
    "\"20+ projects and much much more waiting for you to discover.\\nUse my coupon PRETENDCODE and get\" \\\n",
    "\"this entire course for $9.99!\"\n",
    "\n"
   ]
  },
  {
   "cell_type": "code",
   "execution_count": 33,
   "id": "da330012",
   "metadata": {},
   "outputs": [],
   "source": [
    "# function to create User Prompt from email content samples\n",
    "\n",
    "def email_user_prompt(email):\n",
    "    user_prompt = \"You are looking at the body of an email\"\n",
    "    user_prompt += \"\\nThe contents of the email are as follows: \"\n",
    "    \"please suggest an appropriate and short subject line for this email.\"\n",
    "    user_prompt += email\n",
    "    return user_prompt"
   ]
  },
  {
   "cell_type": "code",
   "execution_count": 34,
   "id": "abe7a507",
   "metadata": {},
   "outputs": [],
   "source": [
    "# Step 1: Create your prompts\n",
    "\n",
    "system_prompt_em = \"You are an assistant that reads the contents of an email, \" \\\n",
    "\"and suggests an appropriate short subject line for that email. Respond in markdown\"\n",
    "\n",
    "# Create messages function using email instead of website but with own user prompt function\n",
    "def make_msg(email):\n",
    "    return [\n",
    "        {\n",
    "            \"role\": \"system\",\n",
    "            \"content\": system_prompt_em\n",
    "        },\n",
    "        {\n",
    "            \"role\": \"user\",\n",
    "            \"content\": email_user_prompt(email)\n",
    "        }\n",
    "    ]\n"
   ]
  },
  {
   "cell_type": "code",
   "execution_count": 35,
   "id": "c0982ca1",
   "metadata": {},
   "outputs": [
    {
     "data": {
      "text/plain": [
       "[{'role': 'system',\n",
       "  'content': 'You are an assistant that reads the contents of an email, and suggests an appropriate short subject line for that email. Respond in markdown'},\n",
       " {'role': 'user',\n",
       "  'content': \"You are looking at the body of an email\\nThe contents of the email are as follows: Thank you for your purchase! \\nHi Susan, we're getting your order ready to be shipped. We will notify you when it has been sent. \\nOrder Summary\\nOrder 8675309\\nArduino Starter Kit x 1\"}]"
      ]
     },
     "execution_count": 35,
     "metadata": {},
     "output_type": "execute_result"
    }
   ],
   "source": [
    "make_msg(order_question)"
   ]
  },
  {
   "cell_type": "code",
   "execution_count": 36,
   "id": "ce726bcb",
   "metadata": {},
   "outputs": [],
   "source": [
    "def subject_getter(email):\n",
    "    response = openai.chat.completions.create(\n",
    "        model = \"gpt-4o-mini\",\n",
    "        messages = make_msg(email)\n",
    "    )\n",
    "    return response.choices[0].message.content"
   ]
  },
  {
   "cell_type": "code",
   "execution_count": 37,
   "id": "b2a56b5b",
   "metadata": {},
   "outputs": [
    {
     "data": {
      "text/plain": [
       "'**Subject: Order Confirmation for Arduino Starter Kit**'"
      ]
     },
     "execution_count": 37,
     "metadata": {},
     "output_type": "execute_result"
    }
   ],
   "source": [
    "subject_getter(order_question)"
   ]
  },
  {
   "cell_type": "code",
   "execution_count": 38,
   "id": "a2fa8c3a",
   "metadata": {},
   "outputs": [
    {
     "data": {
      "text/plain": [
       "'```markdown\\nSubject: Early Access to Exciting New Course: Learn Javascript for $9.99!\\n```'"
      ]
     },
     "execution_count": 38,
     "metadata": {},
     "output_type": "execute_result"
    }
   ],
   "source": [
    "subject_getter(course_info)"
   ]
  },
  {
   "cell_type": "code",
   "execution_count": null,
   "id": "a390edec",
   "metadata": {},
   "outputs": [],
   "source": []
  }
 ],
 "metadata": {
  "kernelspec": {
   "display_name": "Python 3 (ipykernel)",
   "language": "python",
   "name": "python3"
  }
 },
 "nbformat": 4,
 "nbformat_minor": 5
}
